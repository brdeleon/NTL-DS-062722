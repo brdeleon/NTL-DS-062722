{
 "cells": [
  {
   "cell_type": "code",
   "execution_count": 1,
   "metadata": {},
   "outputs": [],
   "source": [
    "from scipy import stats\n",
    "import numpy as np\n",
    "import seaborn as sns\n",
    "import matplotlib.pyplot as plt"
   ]
  },
  {
   "cell_type": "code",
   "execution_count": null,
   "metadata": {},
   "outputs": [],
   "source": [
    ".mode()\n",
    ".median()\n",
    ".mean() # of each columns\n",
    ".mean(axis=1) # of each row\n",
    "max(df[\"\"]) - min(df[\"\"]) # Range"
   ]
  },
  {
   "cell_type": "code",
   "execution_count": null,
   "metadata": {},
   "outputs": [],
   "source": [
    "The probability of seeing a result as extreme or more extreme than the one observed is known as the p-value.\n",
    "\n",
    "The T Test is a statistical test used to determine whether a numeric data sample of differs significantly from the population or whether two samples differ from one another.\n",
    "\n"
   ]
  },
  {
   "cell_type": "markdown",
   "metadata": {},
   "source": [
    "### Significance Level"
   ]
  },
  {
   "cell_type": "markdown",
   "metadata": {},
   "source": [
    "Often, alpha(𝛼) is set to 0.05, which has as a side-effect that there is a 5 percent chance that you will reject the null hypothesis when it is true.\n",
    "###### \"with a confidence level of 95%, we can state that...\""
   ]
  },
  {
   "cell_type": "markdown",
   "metadata": {},
   "source": [
    "## One Sample T Test"
   ]
  },
  {
   "cell_type": "code",
   "execution_count": null,
   "metadata": {},
   "outputs": [],
   "source": [
    "stats.ttest_1samp(a= minnesota_ages,                 # sample data\n",
    "                 popmean= population_ages.mean())    # population mean\n",
    "\n",
    "# this will provide t-statistic in first element and p value in the second\n",
    "# p value tells you the probability that you'll see a result as extreme as the one observed due to chance\n",
    "# in other words we would only expect to see a difference between these two as large as observed here due \n",
    "# to chance about \"p-value\" amounts of time\n",
    "# this is where statistical significance levels comes in, if we want a 95% confidence that we wont accept the \n",
    "# alternative hypothesis when it isnt actually true -- then we want to see a p value that is .05 % or less berfore we\n",
    "# are willing to say ok that is strong evidence"
   ]
  },
  {
   "cell_type": "code",
   "execution_count": null,
   "metadata": {},
   "outputs": [],
   "source": [
    "stats.t.ppf(q=0.025, # Quantile to check/ test statistic \"t\" #(.5 split in half between top and bottom tails)\n",
    "            df=49)   # Degrees of freedom\n",
    "# degrees of freedom is size of our sample minus 1\n",
    "# run opposit side to get upper quartile\n",
    "stats.t.ppf(q=0.975, # Quantile to check/ test statistic \"t\" #(.5 split in half between top and bottom tails)\n",
    "            df=49)   # Degrees of freedom\n",
    "# the re"
   ]
  },
  {
   "cell_type": "markdown",
   "metadata": {},
   "source": [
    "## One-Sample z-Test"
   ]
  },
  {
   "cell_type": "code",
   "execution_count": null,
   "metadata": {},
   "outputs": [],
   "source": [
    "# performed when the population means and standard deviation are known\n",
    "# best suited for situations where you want to investigate\n",
    "# whether a given \"sample\" comes from a particular \"population\"\n",
    "# alternative hypothesis ( 𝐻𝑎 ): sample mean is significantly bigger/less than the population mean\n",
    "# null hypothesis ( 𝐻0 ): no significant difference between the sample mean and population mean\n",
    "# \n"
   ]
  },
  {
   "cell_type": "code",
   "execution_count": null,
   "metadata": {},
   "outputs": [],
   "source": [
    "import scipy.stats as stats\n",
    "from math import sqrt\n",
    "x_bar = 103 # sample mean \n",
    "n = 40 # number of students\n",
    "sigma = 16 # sd of population\n",
    "mu = 100 # Population mean \n",
    "\n",
    "z = (x_bar - mu)/(sigma/sqrt(n))\n",
    "z"
   ]
  },
  {
   "cell_type": "code",
   "execution_count": null,
   "metadata": {},
   "outputs": [],
   "source": [
    "# 𝑧 -value on a standard normal distribution to see what it means\n",
    "import numpy as np\n",
    "import matplotlib.pyplot as plt\n",
    "%matplotlib inline\n",
    "\n",
    "plt.style.use('seaborn')\n",
    "plt.fill_between(x=np.arange(-4,1.19,0.01),\n",
    "                 y1= stats.norm.pdf(np.arange(-4,1.19,0.01)) ,\n",
    "                 facecolor='red',\n",
    "                 alpha=0.35,\n",
    "                 label= 'Area below z-statistic'\n",
    "                 )\n",
    "\n",
    "plt.fill_between(x=np.arange(1.19,4,0.01), \n",
    "                 y1= stats.norm.pdf(np.arange(1.19,4,0.01)) ,\n",
    "                 facecolor='blue',\n",
    "                 alpha=0.35, \n",
    "                 label= 'Area above z-statistic')\n",
    "plt.legend()\n",
    "plt.title ('z-statistic = 1.19');"
   ]
  },
  {
   "cell_type": "code",
   "execution_count": null,
   "metadata": {},
   "outputs": [],
   "source": []
  }
 ],
 "metadata": {
  "kernelspec": {
   "display_name": "Python (learn-env)",
   "language": "python",
   "name": "learn-env"
  },
  "language_info": {
   "codemirror_mode": {
    "name": "ipython",
    "version": 3
   },
   "file_extension": ".py",
   "mimetype": "text/x-python",
   "name": "python",
   "nbconvert_exporter": "python",
   "pygments_lexer": "ipython3",
   "version": "3.8.5"
  }
 },
 "nbformat": 4,
 "nbformat_minor": 4
}
