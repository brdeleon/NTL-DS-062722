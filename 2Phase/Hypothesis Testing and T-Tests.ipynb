{
 "cells": [
  {
   "cell_type": "code",
   "execution_count": 1,
   "metadata": {},
   "outputs": [],
   "source": [
    "from scipy import stats\n",
    "import numpy as np\n",
    "import seaborn as sns\n",
    "import matplotlib.pyplot as plt"
   ]
  },
  {
   "cell_type": "code",
   "execution_count": null,
   "metadata": {},
   "outputs": [],
   "source": [
    ".mode()\n",
    ".median()\n",
    ".mean() # of each columns\n",
    ".mean(axis=1) # of each row\n",
    "max(df[\"\"]) - min(df[\"\"]) # Range"
   ]
  },
  {
   "cell_type": "code",
   "execution_count": null,
   "metadata": {},
   "outputs": [],
   "source": [
    "The probability of seeing a result as extreme or more extreme than the one observed is known as the p-value.\n",
    "\n",
    "The T Test is a statistical test used to determine whether a numeric data sample of differs significantly from the population or whether two samples differ from one another.\n",
    "\n"
   ]
  },
  {
   "cell_type": "code",
   "execution_count": null,
   "metadata": {},
   "outputs": [],
   "source": [
    "One Sample T Test"
   ]
  },
  {
   "cell_type": "code",
   "execution_count": null,
   "metadata": {},
   "outputs": [],
   "source": [
    "stats.ttest_1samp(a= minnesota_ages,                 # sample data\n",
    "                 popmean= population_ages.mean())    # population mean\n",
    "\n",
    "# this will provide t-statistic in first element and p value in the second\n",
    "# p value tells you the probability that you'll see a result as extreme as the one observed due to chance\n",
    "# in other words we would only expect to see a difference between these two as large as observed here due \n",
    "# to chance about \"p-value\" amounts of time\n",
    "# this is where statistical significance levels comes in, if we want a 95% confidence that we wont accept the \n",
    "# alternative hypothesis when it isnt actually true -- then we want to see a p value that is .05 % or less berfore we\n",
    "# are willing to say ok that is strong evidence"
   ]
  },
  {
   "cell_type": "code",
   "execution_count": null,
   "metadata": {},
   "outputs": [],
   "source": [
    "stats.t.ppf(q=0.025, # Quantile to check/ test statistic \"t\" #(.5 split in half between top and bottom tails)\n",
    "            df=49)   # Degrees of freedom\n",
    "# degrees of freedom is size of our sample minus 1\n",
    "# run opposit side to get upper quartile\n",
    "stats.t.ppf(q=0.975, # Quantile to check/ test statistic \"t\" #(.5 split in half between top and bottom tails)\n",
    "            df=49)   # Degrees of freedom\n",
    "# the re"
   ]
  }
 ],
 "metadata": {
  "kernelspec": {
   "display_name": "Python (learn-env)",
   "language": "python",
   "name": "learn-env"
  },
  "language_info": {
   "codemirror_mode": {
    "name": "ipython",
    "version": 3
   },
   "file_extension": ".py",
   "mimetype": "text/x-python",
   "name": "python",
   "nbconvert_exporter": "python",
   "pygments_lexer": "ipython3",
   "version": "3.8.5"
  }
 },
 "nbformat": 4,
 "nbformat_minor": 4
}
