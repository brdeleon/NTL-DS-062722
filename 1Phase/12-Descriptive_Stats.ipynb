{
 "cells": [
  {
   "cell_type": "markdown",
   "metadata": {
    "toc": true
   },
   "source": [
    "<h1>Table of Contents<span class=\"tocSkip\"></span></h1>\n",
    "<div class=\"toc\"><ul class=\"toc-item\"><li><span><a href=\"#Descriptive-Analysis\" data-toc-modified-id=\"Descriptive-Analysis-1\"><span class=\"toc-item-num\">1&nbsp;&nbsp;</span>Descriptive Analysis</a></span><ul class=\"toc-item\"><li><span><a href=\"#Objectives\" data-toc-modified-id=\"Objectives-1.1\"><span class=\"toc-item-num\">1.1&nbsp;&nbsp;</span>Objectives</a></span></li></ul></li><li><span><a href=\"#Sample-Data\" data-toc-modified-id=\"Sample-Data-2\"><span class=\"toc-item-num\">2&nbsp;&nbsp;</span>Sample Data</a></span><ul class=\"toc-item\"><li><span><a href=\"#df.describe()\" data-toc-modified-id=\"df.describe()-2.1\"><span class=\"toc-item-num\">2.1&nbsp;&nbsp;</span><code>df.describe()</code></a></span></li></ul></li><li><span><a href=\"#Different-Statistical-Measures\" data-toc-modified-id=\"Different-Statistical-Measures-3\"><span class=\"toc-item-num\">3&nbsp;&nbsp;</span>Different Statistical Measures</a></span><ul class=\"toc-item\"><li><span><a href=\"#Measures-of-Center\" data-toc-modified-id=\"Measures-of-Center-3.1\"><span class=\"toc-item-num\">3.1&nbsp;&nbsp;</span>Measures of Center</a></span><ul class=\"toc-item\"><li><span><a href=\"#Mathematical-Properties\" data-toc-modified-id=\"Mathematical-Properties-3.1.1\"><span class=\"toc-item-num\">3.1.1&nbsp;&nbsp;</span>Mathematical Properties</a></span></li></ul></li><li><span><a href=\"#Measures-of-Spread\" data-toc-modified-id=\"Measures-of-Spread-3.2\"><span class=\"toc-item-num\">3.2&nbsp;&nbsp;</span>Measures of Spread</a></span><ul class=\"toc-item\"><li><span><a href=\"#Min,-Max,-and-Range\" data-toc-modified-id=\"Min,-Max,-and-Range-3.2.1\"><span class=\"toc-item-num\">3.2.1&nbsp;&nbsp;</span>Min, Max, and Range</a></span></li><li><span><a href=\"#Percentiles-and-IQR\" data-toc-modified-id=\"Percentiles-and-IQR-3.2.2\"><span class=\"toc-item-num\">3.2.2&nbsp;&nbsp;</span>Percentiles and IQR</a></span></li><li><span><a href=\"#Standard-Deviation\" data-toc-modified-id=\"Standard-Deviation-3.2.3\"><span class=\"toc-item-num\">3.2.3&nbsp;&nbsp;</span>Standard Deviation</a></span></li></ul></li></ul></li><li><span><a href=\"#Visual-Description\" data-toc-modified-id=\"Visual-Description-4\"><span class=\"toc-item-num\">4&nbsp;&nbsp;</span>Visual Description</a></span><ul class=\"toc-item\"><li><span><a href=\"#Histograms\" data-toc-modified-id=\"Histograms-4.1\"><span class=\"toc-item-num\">4.1&nbsp;&nbsp;</span>Histograms</a></span><ul class=\"toc-item\"><li><span><a href=\"#The-&quot;right&quot;-number-of-bins\" data-toc-modified-id=\"The-&quot;right&quot;-number-of-bins-4.1.1\"><span class=\"toc-item-num\">4.1.1&nbsp;&nbsp;</span>The \"right\" number of bins</a></span></li></ul></li><li><span><a href=\"#Box-and-Whisker-Plot\" data-toc-modified-id=\"Box-and-Whisker-Plot-4.2\"><span class=\"toc-item-num\">4.2&nbsp;&nbsp;</span>Box and Whisker Plot</a></span></li></ul></li><li><span><a href=\"#Addressing-Business-Questions\" data-toc-modified-id=\"Addressing-Business-Questions-5\"><span class=\"toc-item-num\">5&nbsp;&nbsp;</span>Addressing Business Questions</a></span><ul class=\"toc-item\"><li><span><a href=\"#Fast-Food-Data\" data-toc-modified-id=\"Fast-Food-Data-5.1\"><span class=\"toc-item-num\">5.1&nbsp;&nbsp;</span>Fast Food Data</a></span><ul class=\"toc-item\"><li><span><a href=\"#Question-1:\" data-toc-modified-id=\"Question-1:-5.1.1\"><span class=\"toc-item-num\">5.1.1&nbsp;&nbsp;</span>Question 1:</a></span></li><li><span><a href=\"#Question-2\" data-toc-modified-id=\"Question-2-5.1.2\"><span class=\"toc-item-num\">5.1.2&nbsp;&nbsp;</span>Question 2</a></span></li><li><span><a href=\"#Question-3-(Exercise!):\" data-toc-modified-id=\"Question-3-(Exercise!):-5.1.3\"><span class=\"toc-item-num\">5.1.3&nbsp;&nbsp;</span>Question 3 (Exercise!):</a></span></li><li><span><a href=\"#Question-4-(Exercise!):\" data-toc-modified-id=\"Question-4-(Exercise!):-5.1.4\"><span class=\"toc-item-num\">5.1.4&nbsp;&nbsp;</span>Question 4 (Exercise!):</a></span></li><li><span><a href=\"#Question-5-(Exercise!)\" data-toc-modified-id=\"Question-5-(Exercise!)-5.1.5\"><span class=\"toc-item-num\">5.1.5&nbsp;&nbsp;</span>Question 5 (Exercise!)</a></span></li></ul></li><li><span><a href=\"#Credit-Card-Data\" data-toc-modified-id=\"Credit-Card-Data-5.2\"><span class=\"toc-item-num\">5.2&nbsp;&nbsp;</span>Credit Card Data</a></span><ul class=\"toc-item\"><li><span><a href=\"#Question-1-(Exercise!)\" data-toc-modified-id=\"Question-1-(Exercise!)-5.2.1\"><span class=\"toc-item-num\">5.2.1&nbsp;&nbsp;</span>Question 1 (Exercise!)</a></span></li><li><span><a href=\"#Question-2-(Exercise!)\" data-toc-modified-id=\"Question-2-(Exercise!)-5.2.2\"><span class=\"toc-item-num\">5.2.2&nbsp;&nbsp;</span>Question 2 (Exercise!)</a></span></li><li><span><a href=\"#Question-3-(Exercise!)\" data-toc-modified-id=\"Question-3-(Exercise!)-5.2.3\"><span class=\"toc-item-num\">5.2.3&nbsp;&nbsp;</span>Question 3 (Exercise!)</a></span></li></ul></li></ul></li><li><span><a href=\"#Level-Up:-Other-Shape-Descriptors\" data-toc-modified-id=\"Level-Up:-Other-Shape-Descriptors-6\"><span class=\"toc-item-num\">6&nbsp;&nbsp;</span>Level Up: Other Shape Descriptors</a></span><ul class=\"toc-item\"><li><span><a href=\"#Moments\" data-toc-modified-id=\"Moments-6.1\"><span class=\"toc-item-num\">6.1&nbsp;&nbsp;</span>Moments</a></span><ul class=\"toc-item\"><li><span><a href=\"#Skewness\" data-toc-modified-id=\"Skewness-6.1.1\"><span class=\"toc-item-num\">6.1.1&nbsp;&nbsp;</span>Skewness</a></span></li><li><span><a href=\"#Kurtosis\" data-toc-modified-id=\"Kurtosis-6.1.2\"><span class=\"toc-item-num\">6.1.2&nbsp;&nbsp;</span>Kurtosis</a></span></li></ul></li><li><span><a href=\"#Symmetry\" data-toc-modified-id=\"Symmetry-6.2\"><span class=\"toc-item-num\">6.2&nbsp;&nbsp;</span>Symmetry</a></span></li><li><span><a href=\"#Modality\" data-toc-modified-id=\"Modality-6.3\"><span class=\"toc-item-num\">6.3&nbsp;&nbsp;</span>Modality</a></span></li></ul></li></ul></div>"
   ]
  },
  {
   "cell_type": "code",
   "execution_count": 4,
   "metadata": {},
   "outputs": [],
   "source": [
    "from scipy import stats\n",
    "from matplotlib import pyplot as plt\n",
    "import seaborn as sns\n",
    "import pandas as pd\n",
    "import numpy as np\n",
    "\n",
    "%matplotlib inline\n",
    "\n",
    "plt.style.use('fivethirtyeight')"
   ]
  },
  {
   "cell_type": "markdown",
   "metadata": {
    "heading_collapsed": true
   },
   "source": [
    "# Descriptive Analysis"
   ]
  },
  {
   "cell_type": "markdown",
   "metadata": {
    "hidden": true
   },
   "source": [
    "When trying to understand your data, it is typically impossible to just look at raw data and get much insight. We need ways to turn a bunch of data into a smaller set of numbers that are easily digestible summaries of your data. This will make them understandable both for you and for the people you work with. We call these **descriptive statistics**."
   ]
  },
  {
   "cell_type": "markdown",
   "metadata": {
    "heading_collapsed": true,
    "hidden": true
   },
   "source": [
    "## Objectives"
   ]
  },
  {
   "cell_type": "markdown",
   "metadata": {
    "hidden": true
   },
   "source": [
    "- Use business context to guide exploratory analyses\n",
    "- Pose clear business-relevant questions and answer them with data\n",
    "- Identify limitations of data for solving business problems"
   ]
  },
  {
   "cell_type": "markdown",
   "metadata": {
    "heading_collapsed": true
   },
   "source": [
    "# Sample Data"
   ]
  },
  {
   "cell_type": "markdown",
   "metadata": {
    "hidden": true
   },
   "source": [
    "Let's build a simple dataset, based on a hypothetical survey of the number of pairs of shoes owned by 11 random people:"
   ]
  },
  {
   "cell_type": "code",
   "execution_count": 5,
   "metadata": {
    "hidden": true
   },
   "outputs": [],
   "source": [
    "data = np.array([5, 6, 3, 4, 3, 4, 8, 8, 1, 8, 2])\n",
    "data_df = pd.DataFrame(data, columns=[\"Pairs of Shoes\"])"
   ]
  },
  {
   "cell_type": "markdown",
   "metadata": {
    "heading_collapsed": true,
    "hidden": true
   },
   "source": [
    "## `df.describe()`"
   ]
  },
  {
   "cell_type": "markdown",
   "metadata": {
    "hidden": true
   },
   "source": [
    "This dataset has a bunch of individual observations in a range of values. These observations have an **empirical distribution** describing how the values are distributed across this range. We'll shorten this to just **distribution** for now. Everything that follows is our attempt to understand the distribution of our data."
   ]
  },
  {
   "cell_type": "markdown",
   "metadata": {
    "hidden": true
   },
   "source": [
    "You can actually get a bunch of descriptive statistics from any `pandas` DataFrame using the `.describe()` method. This should be one of the first things you'll do when exploring a new dataset."
   ]
  },
  {
   "cell_type": "code",
   "execution_count": 6,
   "metadata": {},
   "outputs": [
    {
     "data": {
      "text/plain": [
       "11"
      ]
     },
     "execution_count": 6,
     "metadata": {},
     "output_type": "execute_result"
    }
   ],
   "source": [
    "len(data)"
   ]
  },
  {
   "cell_type": "code",
   "execution_count": 7,
   "metadata": {
    "hidden": true
   },
   "outputs": [
    {
     "data": {
      "text/html": [
       "<div>\n",
       "<style scoped>\n",
       "    .dataframe tbody tr th:only-of-type {\n",
       "        vertical-align: middle;\n",
       "    }\n",
       "\n",
       "    .dataframe tbody tr th {\n",
       "        vertical-align: top;\n",
       "    }\n",
       "\n",
       "    .dataframe thead th {\n",
       "        text-align: right;\n",
       "    }\n",
       "</style>\n",
       "<table border=\"1\" class=\"dataframe\">\n",
       "  <thead>\n",
       "    <tr style=\"text-align: right;\">\n",
       "      <th></th>\n",
       "      <th>Pairs of Shoes</th>\n",
       "    </tr>\n",
       "  </thead>\n",
       "  <tbody>\n",
       "    <tr>\n",
       "      <th>count</th>\n",
       "      <td>11.000000</td>\n",
       "    </tr>\n",
       "    <tr>\n",
       "      <th>mean</th>\n",
       "      <td>4.727273</td>\n",
       "    </tr>\n",
       "    <tr>\n",
       "      <th>std</th>\n",
       "      <td>2.493628</td>\n",
       "    </tr>\n",
       "    <tr>\n",
       "      <th>min</th>\n",
       "      <td>1.000000</td>\n",
       "    </tr>\n",
       "    <tr>\n",
       "      <th>25%</th>\n",
       "      <td>3.000000</td>\n",
       "    </tr>\n",
       "    <tr>\n",
       "      <th>50%</th>\n",
       "      <td>4.000000</td>\n",
       "    </tr>\n",
       "    <tr>\n",
       "      <th>75%</th>\n",
       "      <td>7.000000</td>\n",
       "    </tr>\n",
       "    <tr>\n",
       "      <th>max</th>\n",
       "      <td>8.000000</td>\n",
       "    </tr>\n",
       "  </tbody>\n",
       "</table>\n",
       "</div>"
      ],
      "text/plain": [
       "       Pairs of Shoes\n",
       "count       11.000000\n",
       "mean         4.727273\n",
       "std          2.493628\n",
       "min          1.000000\n",
       "25%          3.000000\n",
       "50%          4.000000\n",
       "75%          7.000000\n",
       "max          8.000000"
      ]
     },
     "execution_count": 7,
     "metadata": {},
     "output_type": "execute_result"
    }
   ],
   "source": [
    "# describe\n",
    "data_df.describe()"
   ]
  },
  {
   "cell_type": "markdown",
   "metadata": {
    "heading_collapsed": true
   },
   "source": [
    "# Different Statistical Measures"
   ]
  },
  {
   "cell_type": "markdown",
   "metadata": {
    "heading_collapsed": true,
    "hidden": true
   },
   "source": [
    "## Measures of Center"
   ]
  },
  {
   "cell_type": "markdown",
   "metadata": {
    "hidden": true
   },
   "source": [
    "One natural place to begin is to ask about where the **middle** of the data is. In other words, what is the value that is closest to our other values? "
   ]
  },
  {
   "cell_type": "markdown",
   "metadata": {
    "hidden": true
   },
   "source": [
    "There are three common measures used to describe the \"middle\":\n",
    "\n",
    "- **Mean**: The sum of values / number of values\n",
    "- **Median**: The value with as many values above it as below it\n",
    "    - If the dataset has an even number of values, the median is the mean of the two middle numbers.\n",
    "- **Mode**: The most frequent value(s)\n",
    "    - A dataset can have multiple modes if multiple values are tied for the most frequent."
   ]
  },
  {
   "cell_type": "markdown",
   "metadata": {
    "hidden": true
   },
   "source": [
    "Let's see what we have for our example:"
   ]
  },
  {
   "cell_type": "code",
   "execution_count": 8,
   "metadata": {
    "hidden": true
   },
   "outputs": [
    {
     "name": "stdout",
     "output_type": "stream",
     "text": [
      "Mean: 4.7272727272727275\n",
      "Median: 4.0\n",
      "Mode: 8\n"
     ]
    }
   ],
   "source": [
    "print(f\"Mean: {np.mean(data)}\")\n",
    "print(f\"Median: {np.median(data)}\")\n",
    "print(f\"Mode: {stats.mode(data)[0][0]}\")"
   ]
  },
  {
   "cell_type": "code",
   "execution_count": 9,
   "metadata": {},
   "outputs": [
    {
     "data": {
      "text/plain": [
       "ModeResult(mode=array([8]), count=array([3]))"
      ]
     },
     "execution_count": 9,
     "metadata": {},
     "output_type": "execute_result"
    }
   ],
   "source": [
    "stats.mode(data)"
   ]
  },
  {
   "cell_type": "code",
   "execution_count": 11,
   "metadata": {
    "hidden": true
   },
   "outputs": [],
   "source": [
    "## You can also find the mode(s) using np.unique()\n",
    "counts = np.unique(data, return_counts=True)"
   ]
  },
  {
   "cell_type": "code",
   "execution_count": 12,
   "metadata": {},
   "outputs": [
    {
     "data": {
      "text/plain": [
       "(array([1, 2, 3, 4, 5, 6, 8]), array([1, 1, 2, 2, 1, 1, 3]))"
      ]
     },
     "execution_count": 12,
     "metadata": {},
     "output_type": "execute_result"
    }
   ],
   "source": [
    "counts"
   ]
  },
  {
   "cell_type": "markdown",
   "metadata": {
    "hidden": true
   },
   "source": [
    "**Discussion**: If somebody asked you \"How many pairs of shoes do people usually have?\", how would you answer (based on these data)?"
   ]
  },
  {
   "cell_type": "markdown",
   "metadata": {
    "heading_collapsed": true,
    "hidden": true
   },
   "source": [
    "### Mathematical Properties"
   ]
  },
  {
   "cell_type": "markdown",
   "metadata": {
    "hidden": true
   },
   "source": [
    "The mean $\\bar{x}$ is the point that minimizes the *sum of squared differences* for a given set of data.\n",
    "\n",
    "<details>\n",
    "    <summary>\n",
    "        Proof\n",
    "    </summary>\n",
    "    We want to find the point $k$ that minimizes $L(k) = \\Sigma^n_{i=1}(x_i-k)^2$. Now, a calculus trick, which we'll see again: To find the minimum of a function, we'll set its derivative to 0. Taking the derivative, we have:\n",
    "\n",
    "$L'(k) = -2\\Sigma^n_{i=1}(x_i-k)$.\n",
    "\n",
    "Now we solve $L'(k) = 0$ for $k$:\n",
    "\n",
    "$-2\\Sigma^n_{i=1}(x_i-k) = 0$, so <br/><br/>\n",
    "$\\Sigma^n_{i=1}(x_i-k) = 0$, so <br/><br/>\n",
    "$\\Sigma^n_{i=1}x_i = \\Sigma^n_{i=1}k = nk$, so <br/><br/>\n",
    "$k = \\frac{\\Sigma^n_{i=1}x_i}{n} = \\bar{x}$.\n",
    "    </details>\n"
   ]
  },
  {
   "cell_type": "markdown",
   "metadata": {
    "hidden": true
   },
   "source": [
    "By contrast, the median is the point that minimizes the *sum of absolute differences*.\n",
    "\n",
    "<details>\n",
    "    <summary>\n",
    "    Proof\n",
    "    </summary>\n",
    "    We want to find the point $k$ that minimizes $D(k) = \\Sigma^n_{i=1}|x_i-k|$. Taking the derivative, we have:\n",
    "\n",
    "$D'(k) = \\Sigma^n_{i=1}\\frac{k-x_i}{|k-x_i|}$.\n",
    "\n",
    "Now we solve $D'(k) = 0$ for $k$:\n",
    "\n",
    "Consider the sum $\\Sigma^n_{i=1}\\frac{k-x_i}{|k-x_i|} = 0$. Ignoring the case where $k = x_i$, each of the addends in this sum is $1$ if $k\\geq x_i$ and $-1$ if not. To make this sum equal to 0, we thus want to choose $k$ such that there are the same number of $1$s and $-1$s, which means that we want to choose $k$ to be the middle number, i.e. the median.\n",
    "\n",
    "Notes:\n",
    "- if $n$ is odd, then the minimum of the function occurs not where its derivative is 0 but where it is *undefined*;\n",
    "- if $n$ is even, then *any* number between the two middle numbers will minimize our function. By conventional defintion of the median in cases of an even number of data points, we take the arithmetic mean of the two middle numbers.\n",
    "    </details>"
   ]
  },
  {
   "cell_type": "markdown",
   "metadata": {
    "heading_collapsed": true,
    "hidden": true
   },
   "source": [
    "## Measures of Spread"
   ]
  },
  {
   "cell_type": "markdown",
   "metadata": {
    "hidden": true
   },
   "source": [
    "Another natural question is about the **spread** of the data. In other words, how wide a range of values do you have? And how close or far are they from the \"middle\"?"
   ]
  },
  {
   "cell_type": "markdown",
   "metadata": {
    "heading_collapsed": true,
    "hidden": true
   },
   "source": [
    "### Min, Max, and Range"
   ]
  },
  {
   "cell_type": "markdown",
   "metadata": {
    "hidden": true
   },
   "source": [
    "The minimum and maximum values of a dataset tell you the full extent of the values of your dataset. The range of the dataset is the difference between those two values."
   ]
  },
  {
   "cell_type": "code",
   "execution_count": 13,
   "metadata": {
    "hidden": true
   },
   "outputs": [
    {
     "name": "stdout",
     "output_type": "stream",
     "text": [
      "Min: 1\n",
      "Max: 8\n",
      "Range: 7\n"
     ]
    }
   ],
   "source": [
    "print(f\"Min: {data.min()}\")\n",
    "print(f\"Max: {data.max()}\")\n",
    "print(f\"Range: {data.max() - data.min()}\")"
   ]
  },
  {
   "cell_type": "markdown",
   "metadata": {
    "heading_collapsed": true,
    "hidden": true
   },
   "source": [
    "### Percentiles and IQR"
   ]
  },
  {
   "cell_type": "markdown",
   "metadata": {
    "hidden": true
   },
   "source": [
    "You can also calculate values at various **percentiles** to understand the spread. An \"Nth Percentile\" value is the value that is greater than N% of other values. The 25th and 75th percentiles are commonly used to describe spread, and the **interquartile range (IQR)** is the difference between these two values.\n",
    "\n",
    "See [the docs](https://numpy.org/doc/stable/reference/generated/numpy.percentile.html) for more specifics about how percentiles are calculated, which is surprisingly tricky."
   ]
  },
  {
   "cell_type": "code",
   "execution_count": 14,
   "metadata": {
    "hidden": true
   },
   "outputs": [
    {
     "name": "stdout",
     "output_type": "stream",
     "text": [
      "25th Percentile: 3.0\n",
      "75th Percentile: 7.0\n",
      "IQR: 4.0\n"
     ]
    }
   ],
   "source": [
    "print(f\"25th Percentile: {np.percentile(data, 25)}\")\n",
    "print(f\"75th Percentile: {np.percentile(data, 75)}\")\n",
    "print(f\"IQR: {np.percentile(data, 75) - np.percentile(data, 25)}\")"
   ]
  },
  {
   "cell_type": "markdown",
   "metadata": {
    "heading_collapsed": true,
    "hidden": true
   },
   "source": [
    "### Standard Deviation"
   ]
  },
  {
   "cell_type": "markdown",
   "metadata": {
    "hidden": true
   },
   "source": [
    "The **standard deviation** is in effect the distance from the mean of the \"average\" data point. It is defined as: $$\\sqrt\\frac{\\Sigma(x_i - \\bar{x})^2}{n}$$."
   ]
  },
  {
   "cell_type": "code",
   "execution_count": 15,
   "metadata": {
    "hidden": true,
    "scrolled": true
   },
   "outputs": [
    {
     "name": "stdout",
     "output_type": "stream",
     "text": [
      "Standard Deviation: 2.3775812419312765\n"
     ]
    }
   ],
   "source": [
    "print(f\"Standard Deviation: {data.std()}\")"
   ]
  },
  {
   "cell_type": "markdown",
   "metadata": {
    "heading_collapsed": true
   },
   "source": [
    "# Visual Description"
   ]
  },
  {
   "cell_type": "markdown",
   "metadata": {
    "hidden": true
   },
   "source": [
    "A picture is worth a thousand words - or numbers! Here we will show how to use histograms and box-and-whisker plots to describe your data."
   ]
  },
  {
   "cell_type": "markdown",
   "metadata": {
    "heading_collapsed": true,
    "hidden": true
   },
   "source": [
    "## Histograms"
   ]
  },
  {
   "cell_type": "markdown",
   "metadata": {
    "hidden": true
   },
   "source": [
    "One natural way of starting to understand a dataset is to construct a **histogram**, which is a bar chart showing the counts of the different values in the dataset.\n",
    "\n",
    "There will usually be many distinct values in your dataset, and you will need to decide how many **bins** to use in the histogram. The bins define the ranges of values captured in each bar in your chart. "
   ]
  },
  {
   "cell_type": "code",
   "execution_count": 16,
   "metadata": {
    "hidden": true
   },
   "outputs": [
    {
     "data": {
      "text/plain": [
       "Text(0.5, 1.0, 'Counts, 14 Bins')"
      ]
     },
     "execution_count": 16,
     "metadata": {},
     "output_type": "execute_result"
    },
    {
     "data": {
      "image/png": "[encoded data removed]",
      "text/plain": [
       "<Figure size 432x288 with 1 Axes>"
      ]
     },
     "metadata": {},
     "output_type": "display_data"
    }
   ],
   "source": [
    "fig, ax = plt.subplots()\n",
    "ax.hist(data, bins=14)\n",
    "plt.title('Counts, 14 Bins')"
   ]
  },
  {
   "cell_type": "code",
   "execution_count": 17,
   "metadata": {
    "hidden": true
   },
   "outputs": [
    {
     "data": {
      "text/plain": [
       "Text(0.5, 1.0, 'Counts, 10 Bins')"
      ]
     },
     "execution_count": 17,
     "metadata": {},
     "output_type": "execute_result"
    },
    {
     "data": {
      "image/png": "[encoded data removed]",
      "text/plain": [
       "<Figure size 432x288 with 1 Axes>"
      ]
     },
     "metadata": {},
     "output_type": "display_data"
    }
   ],
   "source": [
    "fig, ax = plt.subplots()\n",
    "ax.hist(data, bins=10)\n",
    "plt.title('Counts, 10 Bins')"
   ]
  },
  {
   "cell_type": "code",
   "execution_count": 18,
   "metadata": {
    "hidden": true
   },
   "outputs": [
    {
     "data": {
      "text/plain": [
       "Text(0.5, 1.0, 'Counts, 5 Bins')"
      ]
     },
     "execution_count": 18,
     "metadata": {},
     "output_type": "execute_result"
    },
    {
     "data": {
      "image/png": "[encoded data removed]",
      "text/plain": [
       "<Figure size 432x288 with 1 Axes>"
      ]
     },
     "metadata": {},
     "output_type": "display_data"
    }
   ],
   "source": [
    "fig, ax = plt.subplots()\n",
    "ax.hist(data, bins=5)\n",
    "plt.title('Counts, 5 Bins')"
   ]
  },
  {
   "cell_type": "code",
   "execution_count": 19,
   "metadata": {
    "hidden": true
   },
   "outputs": [
    {
     "data": {
      "text/plain": [
       "Text(0.5, 1.0, 'Counts, 7 Bins')"
      ]
     },
     "execution_count": 19,
     "metadata": {},
     "output_type": "execute_result"
    },
    {
     "data": {
      "image/png": "[encoded data removed]",
      "text/plain": [
       "<Figure size 432x288 with 1 Axes>"
      ]
     },
     "metadata": {},
     "output_type": "display_data"
    }
   ],
   "source": [
    "fig, ax = plt.subplots()\n",
    "ax.hist(data, bins=7)\n",
    "plt.title('Counts, 7 Bins')"
   ]
  },
  {
   "cell_type": "markdown",
   "metadata": {
    "heading_collapsed": true,
    "hidden": true
   },
   "source": [
    "### The \"right\" number of bins\n",
    "\n",
    "Using the wrong number of bins in a histogram can cause you to make invalid assumptions.\n",
    "\n",
    "What's the \"right\" number of bins?\n",
    "\n",
    "Easy: Depends.\n",
    "\n",
    "There are many ways of calculating the correct number of bins. However, we will stick with the most common method as outlined in [this Wikipedia](https://en.wikipedia.org/wiki/Histogram#Number_of_bins_and_width) article.\n",
    "\n",
    "Namely:\n",
    "\n",
    "$$\\lceil\\sqrt n \\rceil$$\n",
    "\n",
    "with n being number of samples."
   ]
  },
  {
   "cell_type": "code",
   "execution_count": 21,
   "metadata": {
    "hidden": true
   },
   "outputs": [
    {
     "data": {
      "image/png": "[encoded data removed]",
      "text/plain": [
       "<Figure size 432x288 with 1 Axes>"
      ]
     },
     "metadata": {},
     "output_type": "display_data"
    }
   ],
   "source": [
    "bins = int( len(data)**(1/2) )  #base python notation of square root\n",
    "\n",
    "fig, ax = plt.subplots()\n",
    "ax.hist(data, bins=7)  # ,bins = bins\n",
    "plt.title(f'Counts, SQRT of number of obserations: {bins} ');"
   ]
  },
  {
   "cell_type": "markdown",
   "metadata": {
    "heading_collapsed": true,
    "hidden": true
   },
   "source": [
    "## Box and Whisker Plot"
   ]
  },
  {
   "cell_type": "markdown",
   "metadata": {
    "hidden": true
   },
   "source": [
    "A box-and-whisker plot can also be useful for visually summarizing your data by showing the min, IQR, and max. [This article](https://towardsdatascience.com/understanding-boxplots-5e2df7bcbd51) explains how to read them."
   ]
  },
  {
   "cell_type": "code",
   "execution_count": 22,
   "metadata": {
    "hidden": true
   },
   "outputs": [
    {
     "data": {
      "text/plain": [
       "Text(0.5, 1.0, 'Counts of Pairs of Shoes')"
      ]
     },
     "execution_count": 22,
     "metadata": {},
     "output_type": "execute_result"
    },
    {
     "data": {
      "image/png": "[encoded data removed]",
      "text/plain": [
       "<Figure size 432x288 with 1 Axes>"
      ]
     },
     "metadata": {},
     "output_type": "display_data"
    }
   ],
   "source": [
    "fig, ax = plt.subplots()\n",
    "ax.boxplot(data)\n",
    "plt.title('Counts of Pairs of Shoes')"
   ]
  },
  {
   "cell_type": "markdown",
   "metadata": {
    "heading_collapsed": true
   },
   "source": [
    "# Addressing Business Questions"
   ]
  },
  {
   "cell_type": "markdown",
   "metadata": {
    "heading_collapsed": true,
    "hidden": true
   },
   "source": [
    "## Fast Food Data"
   ]
  },
  {
   "cell_type": "code",
   "execution_count": 23,
   "metadata": {
    "hidden": true
   },
   "outputs": [],
   "source": [
    "ffood = pd.read_csv('data/Datafiniti_Fast_Food.csv')"
   ]
  },
  {
   "cell_type": "code",
   "execution_count": 24,
   "metadata": {
    "hidden": true,
    "scrolled": true
   },
   "outputs": [
    {
     "data": {
      "text/html": [
       "<div>\n",
       "<style scoped>\n",
       "    .dataframe tbody tr th:only-of-type {\n",
       "        vertical-align: middle;\n",
       "    }\n",
       "\n",
       "    .dataframe tbody tr th {\n",
       "        vertical-align: top;\n",
       "    }\n",
       "\n",
       "    .dataframe thead th {\n",
       "        text-align: right;\n",
       "    }\n",
       "</style>\n",
       "<table border=\"1\" class=\"dataframe\">\n",
       "  <thead>\n",
       "    <tr style=\"text-align: right;\">\n",
       "      <th></th>\n",
       "      <th>id</th>\n",
       "      <th>dateAdded</th>\n",
       "      <th>dateUpdated</th>\n",
       "      <th>address</th>\n",
       "      <th>categories</th>\n",
       "      <th>city</th>\n",
       "      <th>country</th>\n",
       "      <th>keys</th>\n",
       "      <th>latitude</th>\n",
       "      <th>longitude</th>\n",
       "      <th>name</th>\n",
       "      <th>postalCode</th>\n",
       "      <th>province</th>\n",
       "      <th>sourceURLs</th>\n",
       "      <th>websites</th>\n",
       "    </tr>\n",
       "  </thead>\n",
       "  <tbody>\n",
       "    <tr>\n",
       "      <th>0</th>\n",
       "      <td>AVwcmSyZIN2L1WUfmxyw</td>\n",
       "      <td>2015-10-19T23:47:58Z</td>\n",
       "      <td>2018-06-26T03:00:14Z</td>\n",
       "      <td>800 N Canal Blvd</td>\n",
       "      <td>American Restaurant and Fast Food Restaurant</td>\n",
       "      <td>Thibodaux</td>\n",
       "      <td>US</td>\n",
       "      <td>us/la/thibodaux/800ncanalblvd/1780593795</td>\n",
       "      <td>29.814697</td>\n",
       "      <td>-90.814742</td>\n",
       "      <td>SONIC Drive In</td>\n",
       "      <td>70301</td>\n",
       "      <td>LA</td>\n",
       "      <td>https://foursquare.com/v/sonic-drive-in/4b7361...</td>\n",
       "      <td>https://locations.sonicdrivein.com/la/thibodau...</td>\n",
       "    </tr>\n",
       "    <tr>\n",
       "      <th>1</th>\n",
       "      <td>AVwcmSyZIN2L1WUfmxyw</td>\n",
       "      <td>2015-10-19T23:47:58Z</td>\n",
       "      <td>2018-06-26T03:00:14Z</td>\n",
       "      <td>800 N Canal Blvd</td>\n",
       "      <td>Fast Food Restaurants</td>\n",
       "      <td>Thibodaux</td>\n",
       "      <td>US</td>\n",
       "      <td>us/la/thibodaux/800ncanalblvd/1780593795</td>\n",
       "      <td>29.814697</td>\n",
       "      <td>-90.814742</td>\n",
       "      <td>SONIC Drive In</td>\n",
       "      <td>70301</td>\n",
       "      <td>LA</td>\n",
       "      <td>https://foursquare.com/v/sonic-drive-in/4b7361...</td>\n",
       "      <td>https://locations.sonicdrivein.com/la/thibodau...</td>\n",
       "    </tr>\n",
       "    <tr>\n",
       "      <th>2</th>\n",
       "      <td>AVwcopQoByjofQCxgfVa</td>\n",
       "      <td>2016-03-29T05:06:36Z</td>\n",
       "      <td>2018-06-26T02:59:52Z</td>\n",
       "      <td>206 Wears Valley Rd</td>\n",
       "      <td>Fast Food Restaurant</td>\n",
       "      <td>Pigeon Forge</td>\n",
       "      <td>US</td>\n",
       "      <td>us/tn/pigeonforge/206wearsvalleyrd/-864103396</td>\n",
       "      <td>35.803788</td>\n",
       "      <td>-83.580553</td>\n",
       "      <td>Taco Bell</td>\n",
       "      <td>37863</td>\n",
       "      <td>TN</td>\n",
       "      <td>https://www.yellowpages.com/pigeon-forge-tn/mi...</td>\n",
       "      <td>http://www.tacobell.com,https://locations.taco...</td>\n",
       "    </tr>\n",
       "    <tr>\n",
       "      <th>3</th>\n",
       "      <td>AVweXN5RByjofQCxxilK</td>\n",
       "      <td>2017-01-03T07:46:11Z</td>\n",
       "      <td>2018-06-26T02:59:51Z</td>\n",
       "      <td>3652 Parkway</td>\n",
       "      <td>Fast Food</td>\n",
       "      <td>Pigeon Forge</td>\n",
       "      <td>US</td>\n",
       "      <td>us/tn/pigeonforge/3652parkway/93075755</td>\n",
       "      <td>35.782339</td>\n",
       "      <td>-83.551408</td>\n",
       "      <td>Arby's</td>\n",
       "      <td>37863</td>\n",
       "      <td>TN</td>\n",
       "      <td>http://www.yellowbook.com/profile/arbys_163389...</td>\n",
       "      <td>http://www.arbys.com,https://locations.arbys.c...</td>\n",
       "    </tr>\n",
       "    <tr>\n",
       "      <th>4</th>\n",
       "      <td>AWQ6MUvo3-Khe5l_j3SG</td>\n",
       "      <td>2018-06-26T02:59:43Z</td>\n",
       "      <td>2018-06-26T02:59:43Z</td>\n",
       "      <td>2118 Mt Zion Parkway</td>\n",
       "      <td>Fast Food Restaurant</td>\n",
       "      <td>Morrow</td>\n",
       "      <td>US</td>\n",
       "      <td>us/ga/morrow/2118mtzionparkway/1305117222</td>\n",
       "      <td>33.562738</td>\n",
       "      <td>-84.321143</td>\n",
       "      <td>Steak 'n Shake</td>\n",
       "      <td>30260</td>\n",
       "      <td>GA</td>\n",
       "      <td>https://foursquare.com/v/steak-n-shake/4bcf77a...</td>\n",
       "      <td>http://www.steaknshake.com/locations/23851-ste...</td>\n",
       "    </tr>\n",
       "  </tbody>\n",
       "</table>\n",
       "</div>"
      ],
      "text/plain": [
       "                     id             dateAdded           dateUpdated  \\\n",
       "0  AVwcmSyZIN2L1WUfmxyw  2015-10-19T23:47:58Z  2018-06-26T03:00:14Z   \n",
       "1  AVwcmSyZIN2L1WUfmxyw  2015-10-19T23:47:58Z  2018-06-26T03:00:14Z   \n",
       "2  AVwcopQoByjofQCxgfVa  2016-03-29T05:06:36Z  2018-06-26T02:59:52Z   \n",
       "3  AVweXN5RByjofQCxxilK  2017-01-03T07:46:11Z  2018-06-26T02:59:51Z   \n",
       "4  AWQ6MUvo3-Khe5l_j3SG  2018-06-26T02:59:43Z  2018-06-26T02:59:43Z   \n",
       "\n",
       "                address                                    categories  \\\n",
       "0      800 N Canal Blvd  American Restaurant and Fast Food Restaurant   \n",
       "1      800 N Canal Blvd                         Fast Food Restaurants   \n",
       "2   206 Wears Valley Rd                          Fast Food Restaurant   \n",
       "3          3652 Parkway                                     Fast Food   \n",
       "4  2118 Mt Zion Parkway                          Fast Food Restaurant   \n",
       "\n",
       "           city country                                           keys  \\\n",
       "0     Thibodaux      US       us/la/thibodaux/800ncanalblvd/1780593795   \n",
       "1     Thibodaux      US       us/la/thibodaux/800ncanalblvd/1780593795   \n",
       "2  Pigeon Forge      US  us/tn/pigeonforge/206wearsvalleyrd/-864103396   \n",
       "3  Pigeon Forge      US         us/tn/pigeonforge/3652parkway/93075755   \n",
       "4        Morrow      US      us/ga/morrow/2118mtzionparkway/1305117222   \n",
       "\n",
       "    latitude  longitude            name postalCode province  \\\n",
       "0  29.814697 -90.814742  SONIC Drive In      70301       LA   \n",
       "1  29.814697 -90.814742  SONIC Drive In      70301       LA   \n",
       "2  35.803788 -83.580553       Taco Bell      37863       TN   \n",
       "3  35.782339 -83.551408          Arby's      37863       TN   \n",
       "4  33.562738 -84.321143  Steak 'n Shake      30260       GA   \n",
       "\n",
       "                                          sourceURLs  \\\n",
       "0  https://foursquare.com/v/sonic-drive-in/4b7361...   \n",
       "1  https://foursquare.com/v/sonic-drive-in/4b7361...   \n",
       "2  https://www.yellowpages.com/pigeon-forge-tn/mi...   \n",
       "3  http://www.yellowbook.com/profile/arbys_163389...   \n",
       "4  https://foursquare.com/v/steak-n-shake/4bcf77a...   \n",
       "\n",
       "                                            websites  \n",
       "0  https://locations.sonicdrivein.com/la/thibodau...  \n",
       "1  https://locations.sonicdrivein.com/la/thibodau...  \n",
       "2  http://www.tacobell.com,https://locations.taco...  \n",
       "3  http://www.arbys.com,https://locations.arbys.c...  \n",
       "4  http://www.steaknshake.com/locations/23851-ste...  "
      ]
     },
     "execution_count": 24,
     "metadata": {},
     "output_type": "execute_result"
    }
   ],
   "source": [
    "ffood.head()"
   ]
  },
  {
   "cell_type": "code",
   "execution_count": 25,
   "metadata": {
    "hidden": true
   },
   "outputs": [
    {
     "name": "stdout",
     "output_type": "stream",
     "text": [
      "<class 'pandas.core.frame.DataFrame'>\n",
      "RangeIndex: 10000 entries, 0 to 9999\n",
      "Data columns (total 15 columns):\n",
      " #   Column       Non-Null Count  Dtype  \n",
      "---  ------       --------------  -----  \n",
      " 0   id           10000 non-null  object \n",
      " 1   dateAdded    10000 non-null  object \n",
      " 2   dateUpdated  10000 non-null  object \n",
      " 3   address      10000 non-null  object \n",
      " 4   categories   10000 non-null  object \n",
      " 5   city         10000 non-null  object \n",
      " 6   country      10000 non-null  object \n",
      " 7   keys         10000 non-null  object \n",
      " 8   latitude     10000 non-null  float64\n",
      " 9   longitude    10000 non-null  float64\n",
      " 10  name         10000 non-null  object \n",
      " 11  postalCode   10000 non-null  object \n",
      " 12  province     10000 non-null  object \n",
      " 13  sourceURLs   10000 non-null  object \n",
      " 14  websites     10000 non-null  object \n",
      "dtypes: float64(2), object(13)\n",
      "memory usage: 1.1+ MB\n"
     ]
    }
   ],
   "source": [
    "ffood.info()"
   ]
  },
  {
   "cell_type": "markdown",
   "metadata": {
    "heading_collapsed": true,
    "hidden": true
   },
   "source": [
    "### Question 1:"
   ]
  },
  {
   "cell_type": "markdown",
   "metadata": {
    "hidden": true
   },
   "source": [
    "How many different restaurant chains are represented in the data? Visualize the numbers for the restaurants with 50 or more instances."
   ]
  },
  {
   "cell_type": "code",
   "execution_count": 32,
   "metadata": {},
   "outputs": [
    {
     "data": {
      "text/plain": [
       "Fast Food Restaurant                                                             3425\n",
       "Fast Food Restaurants                                                            3406\n",
       "Fast Food                                                                        1777\n",
       "Fast Food Restaurant and Burger Joint                                             260\n",
       "Fast food restaurants                                                             191\n",
       "                                                                                 ... \n",
       "Fast Food Restaurant and Burger Joint Old North Columbus                            1\n",
       "Ice Cream Shop and Fast Food Restaurant Greater East Side                           1\n",
       "Mediterranean Restaurant, Fast Food Restaurant, and Middle Eastern Restaurant       1\n",
       "American Restaurant, Fast Food Restaurant, and Sandwich Place Central Omaha         1\n",
       "Sushi Restaurant and Fast Food Restaurant                                           1\n",
       "Name: categories, Length: 324, dtype: int64"
      ]
     },
     "execution_count": 32,
     "metadata": {},
     "output_type": "execute_result"
    }
   ],
   "source": [
    "different_restaurant = ffood['categories'].value_counts()\n",
    "chain"
   ]
  },
  {
   "cell_type": "code",
   "execution_count": 29,
   "metadata": {},
   "outputs": [
    {
     "data": {
      "text/plain": [
       "{'American / Hamburgers / Fast Food',\n",
       " 'American Restaurant and Fast Food Restaurant',\n",
       " 'American Restaurant and Fast Food Restaurant Broadmoor-Sherwood',\n",
       " 'American Restaurant, Burger Joint, and Fast Food Restaurant',\n",
       " 'American Restaurant, Fast Food Restaurant, and Breakfast Spot',\n",
       " 'American Restaurant, Fast Food Restaurant, and Breakfast Spot Bevo Mill',\n",
       " 'American Restaurant, Fast Food Restaurant, and Breakfast Spot Downtown Indianapolis',\n",
       " 'American Restaurant, Fast Food Restaurant, and Breakfast Spot Far Eastside',\n",
       " 'American Restaurant, Fast Food Restaurant, and Breakfast Spot Polaris',\n",
       " 'American Restaurant, Fast Food Restaurant, and Burger Joint',\n",
       " 'American Restaurant, Fast Food Restaurant, and Event Space',\n",
       " 'American Restaurant, Fast Food Restaurant, and Sandwich Place',\n",
       " 'American Restaurant, Fast Food Restaurant, and Sandwich Place Central Omaha',\n",
       " 'American Restaurant, Sandwich Place, and Fast Food Restaurant',\n",
       " 'Asian Restaurant, Chinese Restaurant, and Fast Food Restaurant',\n",
       " 'Asian Restaurant, Fast Food Restaurant, and Chinese Restaurant',\n",
       " 'Asian Restaurant, Fast Food Restaurant, and Chinese Restaurant Anderson Arbor',\n",
       " 'BBQ Joint and Fast Food Restaurant',\n",
       " 'Bakeries / Desserts / Fast Food',\n",
       " 'Bakery & Pastries / American / Fast Food',\n",
       " 'Bakery, Restaurant, and Fast Food Restaurant',\n",
       " 'Burger Joint and Fast Food Restaurant',\n",
       " 'Burger Joint and Fast Food Restaurant Brooklyn - Centre',\n",
       " 'Burger Joint and Fast Food Restaurant Central City South',\n",
       " 'Burger Joint and Fast Food Restaurant Downtown Tempe',\n",
       " 'Burger Joint and Fast Food Restaurant Far East Detroit',\n",
       " 'Burger Joint and Fast Food Restaurant Floresta',\n",
       " 'Burger Joint and Fast Food Restaurant Forest Park West',\n",
       " 'Burger Joint and Fast Food Restaurant Gulf Breeze',\n",
       " 'Burger Joint and Fast Food Restaurant Rancho San Clemente',\n",
       " 'Burger Joint and Fast Food Restaurant Terrell Heights',\n",
       " 'Burger Joint, American Restaurant, and Fast Food Restaurant',\n",
       " 'Burger Joint, Fast Food Restaurant, and American Restaurant',\n",
       " 'Burger Joint, Fast Food Restaurant, and American Restaurant City Center',\n",
       " 'Burger Joint, Fast Food Restaurant, and American Restaurant The Promenade',\n",
       " 'Burger Joint, Fast Food Restaurant, and Ice Cream Shop',\n",
       " 'Burger Joint, Fast Food Restaurant, and Playground',\n",
       " 'Burger Joint, Fried Chicken Joint, and Fast Food Restaurant',\n",
       " 'Burger Joint, Fried Chicken Joint, and Fast Food Restaurant Cabrillo',\n",
       " 'Burgers / American / Fast Food',\n",
       " 'Burgers / Breakfast / Fast Food',\n",
       " 'Chinese Restaurant and Fast Food Restaurant',\n",
       " 'Chinese Restaurant and Fast Food Restaurant Union Square',\n",
       " 'Chinese Restaurant and Fast Food Restaurant West Eugene',\n",
       " 'Coffee & Tea / Breakfast / Fast Food',\n",
       " 'Deli / Bodega, Fast Food Restaurant, and American Restaurant',\n",
       " 'Diner, Breakfast Spot, and Fast Food Restaurant',\n",
       " 'Fast Food',\n",
       " 'Fast Food / Sandwiches / Wraps',\n",
       " 'Fast Food Restaurant',\n",
       " 'Fast Food Restaurant Atascocita South',\n",
       " 'Fast Food Restaurant Barton Chapel',\n",
       " 'Fast Food Restaurant Belle Creek',\n",
       " 'Fast Food Restaurant Boyle Heights',\n",
       " 'Fast Food Restaurant Camelback East',\n",
       " 'Fast Food Restaurant Canarsie',\n",
       " 'Fast Food Restaurant Carr Square',\n",
       " 'Fast Food Restaurant Cary Park',\n",
       " 'Fast Food Restaurant Central Oakland',\n",
       " 'Fast Food Restaurant Central Oklahoma City',\n",
       " 'Fast Food Restaurant Central San Diego',\n",
       " 'Fast Food Restaurant Cherry Hill',\n",
       " 'Fast Food Restaurant Cobblestone',\n",
       " 'Fast Food Restaurant Crown Heights',\n",
       " 'Fast Food Restaurant Dallas Bay - Lakesite',\n",
       " 'Fast Food Restaurant Downtown',\n",
       " 'Fast Food Restaurant Downtown Boston',\n",
       " 'Fast Food Restaurant Downtown Compton',\n",
       " 'Fast Food Restaurant Eagledale',\n",
       " 'Fast Food Restaurant East Bay',\n",
       " 'Fast Food Restaurant East Cobb',\n",
       " 'Fast Food Restaurant East Portland',\n",
       " 'Fast Food Restaurant Encino',\n",
       " 'Fast Food Restaurant English Avenue',\n",
       " 'Fast Food Restaurant Fairpark',\n",
       " 'Fast Food Restaurant Forest Lakes',\n",
       " 'Fast Food Restaurant Grand Chute',\n",
       " 'Fast Food Restaurant Gresham-Centennial',\n",
       " 'Fast Food Restaurant Haddington',\n",
       " 'Fast Food Restaurant Hayden Island',\n",
       " 'Fast Food Restaurant Heart of Missoula',\n",
       " 'Fast Food Restaurant Hickory Valley - Hamilton Place',\n",
       " 'Fast Food Restaurant Highlands',\n",
       " 'Fast Food Restaurant Hilliard Green',\n",
       " 'Fast Food Restaurant Historic Downtown',\n",
       " 'Fast Food Restaurant Kendall-Whittier',\n",
       " 'Fast Food Restaurant Lents',\n",
       " 'Fast Food Restaurant Linda Vista',\n",
       " 'Fast Food Restaurant Lookout Valley - Lookout Mountain',\n",
       " 'Fast Food Restaurant Lyell-Otis',\n",
       " 'Fast Food Restaurant Mid City North',\n",
       " 'Fast Food Restaurant Mid City South',\n",
       " 'Fast Food Restaurant Mid-City',\n",
       " 'Fast Food Restaurant Military',\n",
       " 'Fast Food Restaurant Nellis Air Force Base',\n",
       " 'Fast Food Restaurant North Houston',\n",
       " 'Fast Food Restaurant North Overton',\n",
       " 'Fast Food Restaurant North Philadelphia',\n",
       " 'Fast Food Restaurant North Sacramento',\n",
       " 'Fast Food Restaurant North San Jose',\n",
       " 'Fast Food Restaurant Northeast Salem',\n",
       " 'Fast Food Restaurant Northwest Columbus',\n",
       " 'Fast Food Restaurant OST - South Union',\n",
       " 'Fast Food Restaurant Rainier Valley',\n",
       " 'Fast Food Restaurant Rockwood',\n",
       " 'Fast Food Restaurant Saint Charles',\n",
       " 'Fast Food Restaurant Saint Helena',\n",
       " 'Fast Food Restaurant Shadowood Square',\n",
       " 'Fast Food Restaurant South End',\n",
       " 'Fast Food Restaurant South Kilbourne',\n",
       " 'Fast Food Restaurant South Mountain',\n",
       " 'Fast Food Restaurant South Vallejo',\n",
       " 'Fast Food Restaurant Southeast Yonkers',\n",
       " 'Fast Food Restaurant Southwest Dallas',\n",
       " 'Fast Food Restaurant Uptown',\n",
       " 'Fast Food Restaurant West Columbia',\n",
       " 'Fast Food Restaurant Willowbrook',\n",
       " 'Fast Food Restaurant and American Restaurant',\n",
       " 'Fast Food Restaurant and American Restaurant Central Oklahoma City',\n",
       " 'Fast Food Restaurant and American Restaurant Mexicantown - Southwest Detroit',\n",
       " 'Fast Food Restaurant and American Restaurant North Park',\n",
       " 'Fast Food Restaurant and Burger Joint',\n",
       " 'Fast Food Restaurant and Burger Joint Allegheny West',\n",
       " 'Fast Food Restaurant and Burger Joint Amnicola - East Chattanooga',\n",
       " 'Fast Food Restaurant and Burger Joint Austin',\n",
       " 'Fast Food Restaurant and Burger Joint Black Rock',\n",
       " 'Fast Food Restaurant and Burger Joint Broadmoor-Anderson Island-Shreve Isle',\n",
       " 'Fast Food Restaurant and Burger Joint Deerwood',\n",
       " 'Fast Food Restaurant and Burger Joint Dinsmore',\n",
       " 'Fast Food Restaurant and Burger Joint Downtown Beaverton',\n",
       " 'Fast Food Restaurant and Burger Joint Downtown Des Moines',\n",
       " 'Fast Food Restaurant and Burger Joint Downtown Renton',\n",
       " 'Fast Food Restaurant and Burger Joint Greater Third Ward',\n",
       " 'Fast Food Restaurant and Burger Joint Highland-Stoner Hill',\n",
       " 'Fast Food Restaurant and Burger Joint Irvington',\n",
       " 'Fast Food Restaurant and Burger Joint Kenton',\n",
       " 'Fast Food Restaurant and Burger Joint Linden',\n",
       " 'Fast Food Restaurant and Burger Joint Manton',\n",
       " 'Fast Food Restaurant and Burger Joint Mid City North',\n",
       " 'Fast Food Restaurant and Burger Joint Mid-City',\n",
       " 'Fast Food Restaurant and Burger Joint Midtown',\n",
       " 'Fast Food Restaurant and Burger Joint North Naples',\n",
       " 'Fast Food Restaurant and Burger Joint Northeast Pensacola',\n",
       " 'Fast Food Restaurant and Burger Joint Northwest Columbia',\n",
       " 'Fast Food Restaurant and Burger Joint Old North Columbus',\n",
       " 'Fast Food Restaurant and Burger Joint Ooltewah - Summit',\n",
       " 'Fast Food Restaurant and Burger Joint South Knoxville',\n",
       " 'Fast Food Restaurant and Burger Joint South Newport News',\n",
       " 'Fast Food Restaurant and Burger Joint South Salem',\n",
       " 'Fast Food Restaurant and Burger Joint South San Jose',\n",
       " 'Fast Food Restaurant and Burger Joint South Side',\n",
       " \"Fast Food Restaurant and Burger Joint St. Elizabeth's\",\n",
       " 'Fast Food Restaurant and Burger Joint Ukrainian Village',\n",
       " 'Fast Food Restaurant and Food',\n",
       " 'Fast Food Restaurant and Fried Chicken Joint',\n",
       " 'Fast Food Restaurant and Fried Chicken Joint South Congress',\n",
       " 'Fast Food Restaurant and Gas Station',\n",
       " 'Fast Food Restaurant and Ice Cream Shop',\n",
       " 'Fast Food Restaurant and Japanese Restaurant',\n",
       " 'Fast Food Restaurant and Mexican Restaurant',\n",
       " 'Fast Food Restaurant and Mexican Restaurant Athmar Park',\n",
       " 'Fast Food Restaurant and Mexican Restaurant Cascade-Fairwood',\n",
       " 'Fast Food Restaurant and Mexican Restaurant Centennial Hills',\n",
       " 'Fast Food Restaurant and Mexican Restaurant Downtown Grand Prairie',\n",
       " 'Fast Food Restaurant and Mexican Restaurant Downtown Longview',\n",
       " 'Fast Food Restaurant and Mexican Restaurant Downtown Mesa',\n",
       " 'Fast Food Restaurant and Mexican Restaurant Highland',\n",
       " 'Fast Food Restaurant and Mexican Restaurant Kendrick Lake',\n",
       " 'Fast Food Restaurant and Mexican Restaurant North Mountain',\n",
       " 'Fast Food Restaurant and Mexican Restaurant Northeast San Antonio',\n",
       " 'Fast Food Restaurant and Mexican Restaurant Paradise Valley',\n",
       " 'Fast Food Restaurant and Mexican Restaurant Park Glen',\n",
       " 'Fast Food Restaurant and Mexican Restaurant South Boulder',\n",
       " 'Fast Food Restaurant and Mexican Restaurant Town Center',\n",
       " 'Fast Food Restaurant and Playground',\n",
       " 'Fast Food Restaurant and Sandwich Place',\n",
       " 'Fast Food Restaurant and Sandwich Place Bayside',\n",
       " 'Fast Food Restaurant and Sandwich Place Northeast San Antonio',\n",
       " 'Fast Food Restaurant and Sandwich Place Yale Park',\n",
       " 'Fast Food Restaurant and Seafood Restaurant',\n",
       " 'Fast Food Restaurant and Taco Place',\n",
       " 'Fast Food Restaurant and Taco Place Maple Lawn',\n",
       " 'Fast Food Restaurant, American Restaurant, and Asian Restaurant',\n",
       " 'Fast Food Restaurant, American Restaurant, and Burger Joint',\n",
       " 'Fast Food Restaurant, American Restaurant, and Burger Joint Stonebridge Ranch',\n",
       " 'Fast Food Restaurant, American Restaurant, and Fried Chicken Joint',\n",
       " 'Fast Food Restaurant, American Restaurant, and Hot Dog Joint',\n",
       " 'Fast Food Restaurant, American Restaurant, and Ice Cream Shop',\n",
       " 'Fast Food Restaurant, American Restaurant, and Sandwich Place',\n",
       " 'Fast Food Restaurant, American Restaurant, and Sandwich Place East Akron',\n",
       " 'Fast Food Restaurant, American Restaurant, and Sandwich Place East Bloomington',\n",
       " 'Fast Food Restaurant, American Restaurant, and Sandwich Place East Louisville',\n",
       " 'Fast Food Restaurant, American Restaurant, and Sandwich Place Ellet',\n",
       " 'Fast Food Restaurant, American Restaurant, and Sandwich Place Far West Side',\n",
       " 'Fast Food Restaurant, American Restaurant, and Sandwich Place Fort Smith Eastside',\n",
       " 'Fast Food Restaurant, American Restaurant, and Sandwich Place Great Neck',\n",
       " 'Fast Food Restaurant, American Restaurant, and Sandwich Place Huffman',\n",
       " 'Fast Food Restaurant, American Restaurant, and Sandwich Place North Buckhead',\n",
       " 'Fast Food Restaurant, American Restaurant, and Sandwich Place North Central Pensacola',\n",
       " 'Fast Food Restaurant, American Restaurant, and Sandwich Place Northeast Philadelphia',\n",
       " 'Fast Food Restaurant, American Restaurant, and Sandwich Place Northeast Warren',\n",
       " 'Fast Food Restaurant, American Restaurant, and Sandwich Place Northwest Columbia',\n",
       " 'Fast Food Restaurant, American Restaurant, and Sandwich Place Northwest Oklahoma City',\n",
       " 'Fast Food Restaurant, American Restaurant, and Sandwich Place South Columbus',\n",
       " 'Fast Food Restaurant, American Restaurant, and Sandwich Place South Orange',\n",
       " 'Fast Food Restaurant, American Restaurant, and Sandwich Place Southeast Jacksonville',\n",
       " 'Fast Food Restaurant, American Restaurant, and Sandwich Place Southwest Arlington',\n",
       " 'Fast Food Restaurant, American Restaurant, and Sandwich Place Stone Oak',\n",
       " 'Fast Food Restaurant, American Restaurant, and Sandwich Place Village of Tampa',\n",
       " 'Fast Food Restaurant, American Restaurant, and Sandwich Place Wallhaven',\n",
       " 'Fast Food Restaurant, American Restaurant, and Sandwich Place Westwood Village',\n",
       " 'Fast Food Restaurant, American Restaurant, and Seafood Restaurant',\n",
       " 'Fast Food Restaurant, Arcade, and Food',\n",
       " 'Fast Food Restaurant, Asian Restaurant, and Chinese Restaurant',\n",
       " 'Fast Food Restaurant, Burger Joint, and Airport Food Court',\n",
       " 'Fast Food Restaurant, Burger Joint, and American Restaurant',\n",
       " 'Fast Food Restaurant, Burger Joint, and American Restaurant West Arlington',\n",
       " 'Fast Food Restaurant, Burger Joint, and Breakfast Spot',\n",
       " 'Fast Food Restaurant, Burger Joint, and Breakfast Spot Kearny Mesa',\n",
       " 'Fast Food Restaurant, Burger Joint, and Home (private)',\n",
       " 'Fast Food Restaurant, Burger Joint, and Ice Cream Shop',\n",
       " 'Fast Food Restaurant, Burger Joint, and Restaurant',\n",
       " 'Fast Food Restaurant, Burrito Place, and American Restaurant',\n",
       " 'Fast Food Restaurant, Convenience Store, and American Restaurant',\n",
       " 'Fast Food Restaurant, Diner, and American Restaurant',\n",
       " 'Fast Food Restaurant, Fried Chicken Joint, and Food',\n",
       " 'Fast Food Restaurant, Gas Station, and Burger Joint',\n",
       " 'Fast Food Restaurant, Hot Dog Joint, and American Restaurant',\n",
       " 'Fast Food Restaurant, Ice Cream Shop, and Burger Joint',\n",
       " 'Fast Food Restaurant, Mexican Restaurant, and Burrito Place',\n",
       " 'Fast Food Restaurant, Mexican Restaurant, and Diner',\n",
       " 'Fast Food Restaurant, Mexican Restaurant, and Fried Chicken Joint Hilltop',\n",
       " 'Fast Food Restaurant, Mexican Restaurant, and Taco Place',\n",
       " 'Fast Food Restaurant, Mexican Restaurant, and Taco Place South Side',\n",
       " 'Fast Food Restaurant, Playground, and Burger Joint',\n",
       " 'Fast Food Restaurant, Playground, and Burger Joint Northeast',\n",
       " 'Fast Food Restaurant, Sandwich Place, and American Restaurant',\n",
       " 'Fast Food Restaurant, Sandwich Place, and American Restaurant Camelback East',\n",
       " 'Fast Food Restaurant, Sandwich Place, and American Restaurant Centennial Hills',\n",
       " 'Fast Food Restaurant, Sandwich Place, and American Restaurant Crestview - Wooten',\n",
       " 'Fast Food Restaurant, Sandwich Place, and American Restaurant Savage - Guilford',\n",
       " 'Fast Food Restaurant, Sandwich Place, and American Restaurant Superstition Springs',\n",
       " 'Fast Food Restaurants',\n",
       " 'Fast food restaurants',\n",
       " 'Fish Chips Shop and Fast Food Restaurant',\n",
       " 'Fried Chicken Joint and Fast Food Restaurant',\n",
       " 'Fried Chicken Joint and Fast Food Restaurant Central',\n",
       " 'Fried Chicken Joint and Fast Food Restaurant Elmhurst',\n",
       " 'Fried Chicken Joint and Fast Food Restaurant Midtown',\n",
       " 'Fried Chicken Joint and Fast Food Restaurant Model City',\n",
       " 'Fried Chicken Joint and Fast Food Restaurant Park View',\n",
       " 'Fried Chicken Joint and Fast Food Restaurant San Ysidro',\n",
       " 'Fried Chicken Joint and Fast Food Restaurant Southwest Dallas',\n",
       " 'Fried Chicken Joint and Fast Food Restaurant West Bronx',\n",
       " 'Fried Chicken Joint, American Restaurant, and Fast Food Restaurant',\n",
       " 'Fried Chicken Joint, Fast Food Restaurant, and American Restaurant',\n",
       " 'Fried Chicken Joint, Fast Food Restaurant, and Food',\n",
       " 'Fried Chicken Joint, Fast Food Restaurant, and Wings Joint',\n",
       " 'Fried Chicken Joint, Food, and Fast Food Restaurant',\n",
       " 'Fried Chicken Joint, Food, and Fast Food Restaurant Historic Mitchell Street',\n",
       " 'Gas Station, Convenience Store, and Fast Food Restaurant',\n",
       " 'Greek Restaurant and Fast Food Restaurant',\n",
       " 'Hamburgers / Fast Food / Burgers',\n",
       " 'Hot Dog Joint and Fast Food Restaurant',\n",
       " 'Hot Dog Joint and Fast Food Restaurant Canyon Country',\n",
       " 'Hot Dog Joint, Fast Food Restaurant, and Food',\n",
       " 'Ice Cream Shop and Fast Food Restaurant',\n",
       " 'Ice Cream Shop and Fast Food Restaurant Christian Park',\n",
       " 'Ice Cream Shop and Fast Food Restaurant Citrus Park Community',\n",
       " 'Ice Cream Shop and Fast Food Restaurant Greater East Side',\n",
       " 'Ice Cream Shop, Burger Joint, and Fast Food Restaurant',\n",
       " 'Ice Cream Shop, Fast Food Restaurant, and Burger Joint',\n",
       " 'Ice Cream Shop, Fast Food Restaurant, and Dessert Shop',\n",
       " 'Latin American Restaurant and Fast Food Restaurant',\n",
       " 'Mediterranean Restaurant, Fast Food Restaurant, and Middle Eastern Restaurant',\n",
       " 'Mexican / Fast Food',\n",
       " 'Mexican Restaurant and Fast Food Restaurant',\n",
       " 'Mexican Restaurant and Fast Food Restaurant Northwest Torrance',\n",
       " 'Mexican Restaurant, Fast Food Restaurant, and Diner',\n",
       " 'Mexican Restaurant, Fast Food Restaurant, and Taco Place',\n",
       " 'Mexican Restaurant, Taco Place, and Fast Food Restaurant',\n",
       " 'Middle Eastern Restaurant and Fast Food Restaurant',\n",
       " 'Pizza / Fast Food / American',\n",
       " 'Pizza Place and Fast Food Restaurant',\n",
       " 'Pizza Place, Fast Food Restaurant, and Italian Restaurant',\n",
       " 'Pizza Place, Fast Food Restaurant, and Italian Restaurant Preston Park',\n",
       " 'Pizza Place, Fried Chicken Joint, and Fast Food Restaurant',\n",
       " 'Pizza Place, Italian Restaurant, and Fast Food Restaurant',\n",
       " 'Restaurant, Fast Food Restaurant, and Fried Chicken Joint',\n",
       " 'Restaurant, Fast Food Restaurant, and Sandwich Place',\n",
       " 'Restaurant, Fast Food Restaurant, and Sandwich Place Crestview - Wooten',\n",
       " 'Restaurant, Fast Food Restaurant, and Sandwich Place Northwest Raleigh',\n",
       " 'Restaurant, Fast Food Restaurant, and Sandwich Place Reservoir',\n",
       " 'Restaurant, Fried Chicken Joint, and Fast Food Restaurant',\n",
       " 'Restaurant, Sandwich Place, and Fast Food Restaurant',\n",
       " 'Sandwich Place and Fast Food Restaurant',\n",
       " 'Sandwich Place and Fast Food Restaurant Allegheny West',\n",
       " 'Sandwich Place and Fast Food Restaurant Belltown',\n",
       " 'Sandwich Place and Fast Food Restaurant Crossroads',\n",
       " 'Sandwich Place and Fast Food Restaurant Downtown Brooklyn',\n",
       " 'Sandwich Place and Fast Food Restaurant Governours Square',\n",
       " 'Sandwich Place and Fast Food Restaurant Northwest Columbia',\n",
       " 'Sandwich Place and Fast Food Restaurant Ohio City',\n",
       " 'Sandwich Place and Fast Food Restaurant Upper East Side',\n",
       " 'Sandwich Place, American Restaurant, and Fast Food Restaurant',\n",
       " 'Sandwich Place, Building, and Fast Food Restaurant',\n",
       " 'Sandwich Place, Deli / Bodega, and Fast Food Restaurant',\n",
       " 'Sandwich Place, Fast Food Restaurant, and American Restaurant',\n",
       " 'Sandwich Place, Fast Food Restaurant, and American Restaurant Amphi',\n",
       " 'Sandwich Place, Fast Food Restaurant, and Food',\n",
       " 'Sandwich Place, Fast Food Restaurant, and Shopping Mall',\n",
       " 'Sandwich Place, Fast Food Restaurant, and Soup Place',\n",
       " 'Sandwich Place, Pizza Place, and Fast Food Restaurant',\n",
       " 'Sandwich Place, Restaurant, and Fast Food Restaurant',\n",
       " 'Sandwiches / Fast Food / American',\n",
       " 'Sandwiches / Wraps / Fast Food',\n",
       " 'Seafood / American / Fast Food',\n",
       " 'Sushi Restaurant and Fast Food Restaurant',\n",
       " 'Taco Place and Fast Food Restaurant',\n",
       " 'Taco Place, Fast Food Restaurant, and Mexican Restaurant',\n",
       " 'Taco Place, Fast Food Restaurant, and Mexican Restaurant Valley Station',\n",
       " 'Taco Place, Mexican Restaurant, and Fast Food Restaurant',\n",
       " 'fast food restaurant',\n",
       " 'fast food restaurants'}"
      ]
     },
     "execution_count": 29,
     "metadata": {},
     "output_type": "execute_result"
    }
   ],
   "source": [
    "set(ffood['categories'])"
   ]
  },
  {
   "cell_type": "code",
   "execution_count": 33,
   "metadata": {
    "hidden": true
   },
   "outputs": [],
   "source": [
    "# Answer here\n",
    "counts = ffood.name.value_counts()"
   ]
  },
  {
   "cell_type": "code",
   "execution_count": 35,
   "metadata": {
    "scrolled": true
   },
   "outputs": [
    {
     "data": {
      "text/plain": [
       "McDonald's         1898\n",
       "Taco Bell          1032\n",
       "Burger King         833\n",
       "Subway              776\n",
       "Arby's              663\n",
       "Wendy's             628\n",
       "Jack in the Box     330\n",
       "Pizza Hut           230\n",
       "Dairy Queen         218\n",
       "Domino's Pizza      215\n",
       "Chick-fil-A         206\n",
       "KFC                 162\n",
       "SONIC Drive In      125\n",
       "Jimmy John's        119\n",
       "Carl's Jr.          112\n",
       "Hardee's             99\n",
       "Krystal              82\n",
       "Panera Bread         76\n",
       "Culver's             71\n",
       "Dunkin' Donuts       71\n",
       "Del Taco             66\n",
       "Panda Express        61\n",
       "SUBWAY               57\n",
       "Steak 'n Shake       54\n",
       "In-N-Out Burger      54\n",
       "Taco John's          53\n",
       "Sonic Drive-In       50\n",
       "Name: name, dtype: int64"
      ]
     },
     "execution_count": 35,
     "metadata": {},
     "output_type": "execute_result"
    }
   ],
   "source": [
    "high = counts [counts>= 50]\n",
    "high"
   ]
  },
  {
   "cell_type": "code",
   "execution_count": 37,
   "metadata": {
    "scrolled": true
   },
   "outputs": [
    {
     "data": {
      "text/plain": [
       "Index(['McDonald's', 'Taco Bell', 'Burger King', 'Subway', 'Arby's', 'Wendy's',\n",
       "       'Jack in the Box', 'Pizza Hut', 'Dairy Queen', 'Domino's Pizza',\n",
       "       'Chick-fil-A', 'KFC', 'SONIC Drive In', 'Jimmy John's', 'Carl's Jr.',\n",
       "       'Hardee's', 'Krystal', 'Panera Bread', 'Culver's', 'Dunkin' Donuts',\n",
       "       'Del Taco', 'Panda Express', 'SUBWAY', 'Steak 'n Shake',\n",
       "       'In-N-Out Burger', 'Taco John's', 'Sonic Drive-In'],\n",
       "      dtype='object')"
      ]
     },
     "execution_count": 37,
     "metadata": {},
     "output_type": "execute_result"
    }
   ],
   "source": [
    "high.index"
   ]
  },
  {
   "cell_type": "code",
   "execution_count": 38,
   "metadata": {},
   "outputs": [
    {
     "data": {
      "text/plain": [
       "pandas.core.series.Series"
      ]
     },
     "execution_count": 38,
     "metadata": {},
     "output_type": "execute_result"
    }
   ],
   "source": [
    "type(high)"
   ]
  },
  {
   "cell_type": "markdown",
   "metadata": {
    "heading_collapsed": true,
    "hidden": true
   },
   "source": [
    "### Question 2"
   ]
  },
  {
   "cell_type": "markdown",
   "metadata": {
    "hidden": true
   },
   "source": [
    "Visualize the locations of restaurants in Buffalo, NY."
   ]
  },
  {
   "cell_type": "code",
   "execution_count": 42,
   "metadata": {
    "hidden": true
   },
   "outputs": [
    {
     "ename": "AttributeError",
     "evalue": "'AxesSubplot' object has no attribute 'set_xt'",
     "output_type": "error",
     "traceback": [
      "\u001b[0;31m---------------------------------------------------------------------------\u001b[0m",
      "\u001b[0;31mAttributeError\u001b[0m                            Traceback (most recent call last)",
      "\u001b[0;32m<ipython-input-42-d3642bec0b77>\u001b[0m in \u001b[0;36m<module>\u001b[0;34m\u001b[0m\n\u001b[1;32m      3\u001b[0m \u001b[0;34m\u001b[0m\u001b[0m\n\u001b[1;32m      4\u001b[0m \u001b[0max\u001b[0m\u001b[0;34m.\u001b[0m\u001b[0mbar\u001b[0m\u001b[0;34m(\u001b[0m\u001b[0mx\u001b[0m\u001b[0;34m=\u001b[0m\u001b[0mhigh\u001b[0m\u001b[0;34m.\u001b[0m\u001b[0mindex\u001b[0m\u001b[0;34m,\u001b[0m \u001b[0mheight\u001b[0m \u001b[0;34m=\u001b[0m\u001b[0mhigh\u001b[0m\u001b[0;34m)\u001b[0m\u001b[0;34m\u001b[0m\u001b[0;34m\u001b[0m\u001b[0m\n\u001b[0;32m----> 5\u001b[0;31m \u001b[0max\u001b[0m\u001b[0;34m.\u001b[0m\u001b[0mset_xt\u001b[0m\u001b[0;34m\u001b[0m\u001b[0;34m\u001b[0m\u001b[0m\n\u001b[0m",
      "\u001b[0;31mAttributeError\u001b[0m: 'AxesSubplot' object has no attribute 'set_xt'"
     ]
    },
    {
     "data": {
      "image/png": "[encoded data removed]",
      "text/plain": [
       "<Figure size 1080x432 with 1 Axes>"
      ]
     },
     "metadata": {},
     "output_type": "display_data"
    }
   ],
   "source": [
    "# Your Answer Here\n",
    "fig, ax = plt.subplots(figsize=(15,6))\n",
    "\n",
    "ax.bar(x=high.index, height =high)\n",
    "ax.set_xt"
   ]
  },
  {
   "cell_type": "code",
   "execution_count": 43,
   "metadata": {},
   "outputs": [],
   "source": [
    "buffalo = ffood[ ffood['city'].str.contains('Buffalo')]"
   ]
  },
  {
   "cell_type": "code",
   "execution_count": 44,
   "metadata": {
    "scrolled": true
   },
   "outputs": [
    {
     "data": {
      "text/html": [
       "<div>\n",
       "<style scoped>\n",
       "    .dataframe tbody tr th:only-of-type {\n",
       "        vertical-align: middle;\n",
       "    }\n",
       "\n",
       "    .dataframe tbody tr th {\n",
       "        vertical-align: top;\n",
       "    }\n",
       "\n",
       "    .dataframe thead th {\n",
       "        text-align: right;\n",
       "    }\n",
       "</style>\n",
       "<table border=\"1\" class=\"dataframe\">\n",
       "  <thead>\n",
       "    <tr style=\"text-align: right;\">\n",
       "      <th></th>\n",
       "      <th>id</th>\n",
       "      <th>dateAdded</th>\n",
       "      <th>dateUpdated</th>\n",
       "      <th>address</th>\n",
       "      <th>categories</th>\n",
       "      <th>city</th>\n",
       "      <th>country</th>\n",
       "      <th>keys</th>\n",
       "      <th>latitude</th>\n",
       "      <th>longitude</th>\n",
       "      <th>name</th>\n",
       "      <th>postalCode</th>\n",
       "      <th>province</th>\n",
       "      <th>sourceURLs</th>\n",
       "      <th>websites</th>\n",
       "    </tr>\n",
       "  </thead>\n",
       "  <tbody>\n",
       "    <tr>\n",
       "      <th>35</th>\n",
       "      <td>AVzA-ZBX3D1zeR_xBC5-</td>\n",
       "      <td>2017-06-19T15:29:59Z</td>\n",
       "      <td>2018-06-25T09:29:40Z</td>\n",
       "      <td>1028 Mckinley Pkwy</td>\n",
       "      <td>Fast Food Restaurants</td>\n",
       "      <td>Buffalo</td>\n",
       "      <td>US</td>\n",
       "      <td>us/ny/buffalo/1028mckinleypkwy/-1161002137</td>\n",
       "      <td>42.857899</td>\n",
       "      <td>-78.825089</td>\n",
       "      <td>McDonald's</td>\n",
       "      <td>14220</td>\n",
       "      <td>NY</td>\n",
       "      <td>https://foursquare.com/v/mcdonalds/4bde2ddce75...</td>\n",
       "      <td>http://www.mcdonalds.com/?cid=RF:YXT_FM:TP::Ye...</td>\n",
       "    </tr>\n",
       "    <tr>\n",
       "      <th>2005</th>\n",
       "      <td>AVzA-Y9oFcQ3k02bBaXi</td>\n",
       "      <td>2017-06-19T15:29:59Z</td>\n",
       "      <td>2018-06-17T23:19:47Z</td>\n",
       "      <td>3120 Niagara Falls Blvd</td>\n",
       "      <td>Fast Food Restaurant</td>\n",
       "      <td>Buffalo</td>\n",
       "      <td>US</td>\n",
       "      <td>us/ny/buffalo/3120niagarafallsblvd/-1161002137</td>\n",
       "      <td>43.039404</td>\n",
       "      <td>-78.824138</td>\n",
       "      <td>McDonald's</td>\n",
       "      <td>14228</td>\n",
       "      <td>NY</td>\n",
       "      <td>https://www.allmenus.com/ny/buffalo/189056-mcd...</td>\n",
       "      <td>http://mcdonalds.com</td>\n",
       "    </tr>\n",
       "    <tr>\n",
       "      <th>2010</th>\n",
       "      <td>AVwcllbnkufWRAb5w06u</td>\n",
       "      <td>2015-10-20T00:55:54Z</td>\n",
       "      <td>2018-06-17T23:19:43Z</td>\n",
       "      <td>262 Grider St</td>\n",
       "      <td>Fast Food</td>\n",
       "      <td>Buffalo</td>\n",
       "      <td>US</td>\n",
       "      <td>us/ny/buffalo/262griderst/-1161002137</td>\n",
       "      <td>42.921505</td>\n",
       "      <td>-78.829117</td>\n",
       "      <td>McDonald's</td>\n",
       "      <td>14215</td>\n",
       "      <td>NY</td>\n",
       "      <td>https://www.allmenus.com/ny/buffalo/189021-mcd...</td>\n",
       "      <td>http://www.mcdonalds.com/?cid=RF:YXT_FM:TP::Ye...</td>\n",
       "    </tr>\n",
       "    <tr>\n",
       "      <th>2015</th>\n",
       "      <td>AVwdiyrbIN2L1WUfw2ls</td>\n",
       "      <td>2015-10-23T02:54:10Z</td>\n",
       "      <td>2018-06-17T23:19:40Z</td>\n",
       "      <td>241 W Ferry St</td>\n",
       "      <td>Fast Food Restaurant</td>\n",
       "      <td>Buffalo</td>\n",
       "      <td>US</td>\n",
       "      <td>us/ny/buffalo/241wferryst/-1161002137</td>\n",
       "      <td>42.915230</td>\n",
       "      <td>-78.892305</td>\n",
       "      <td>McDonald's</td>\n",
       "      <td>14213</td>\n",
       "      <td>NY</td>\n",
       "      <td>https://www.allmenus.com/ny/buffalo/188996-mcd...</td>\n",
       "      <td>http://www.mcdonalds.com/?cid=RF:YXT_FM:TP::Ye...</td>\n",
       "    </tr>\n",
       "    <tr>\n",
       "      <th>2016</th>\n",
       "      <td>AVwdiyrbIN2L1WUfw2ls</td>\n",
       "      <td>2015-10-23T02:54:10Z</td>\n",
       "      <td>2018-06-17T23:19:40Z</td>\n",
       "      <td>241 W Ferry St</td>\n",
       "      <td>Fast Food</td>\n",
       "      <td>Buffalo</td>\n",
       "      <td>US</td>\n",
       "      <td>us/ny/buffalo/241wferryst/-1161002137</td>\n",
       "      <td>42.915230</td>\n",
       "      <td>-78.892305</td>\n",
       "      <td>McDonald's</td>\n",
       "      <td>14213</td>\n",
       "      <td>NY</td>\n",
       "      <td>https://www.allmenus.com/ny/buffalo/188996-mcd...</td>\n",
       "      <td>http://www.mcdonalds.com/?cid=RF:YXT_FM:TP::Ye...</td>\n",
       "    </tr>\n",
       "  </tbody>\n",
       "</table>\n",
       "</div>"
      ],
      "text/plain": [
       "                        id             dateAdded           dateUpdated  \\\n",
       "35    AVzA-ZBX3D1zeR_xBC5-  2017-06-19T15:29:59Z  2018-06-25T09:29:40Z   \n",
       "2005  AVzA-Y9oFcQ3k02bBaXi  2017-06-19T15:29:59Z  2018-06-17T23:19:47Z   \n",
       "2010  AVwcllbnkufWRAb5w06u  2015-10-20T00:55:54Z  2018-06-17T23:19:43Z   \n",
       "2015  AVwdiyrbIN2L1WUfw2ls  2015-10-23T02:54:10Z  2018-06-17T23:19:40Z   \n",
       "2016  AVwdiyrbIN2L1WUfw2ls  2015-10-23T02:54:10Z  2018-06-17T23:19:40Z   \n",
       "\n",
       "                      address             categories     city country  \\\n",
       "35         1028 Mckinley Pkwy  Fast Food Restaurants  Buffalo      US   \n",
       "2005  3120 Niagara Falls Blvd   Fast Food Restaurant  Buffalo      US   \n",
       "2010            262 Grider St              Fast Food  Buffalo      US   \n",
       "2015           241 W Ferry St   Fast Food Restaurant  Buffalo      US   \n",
       "2016           241 W Ferry St              Fast Food  Buffalo      US   \n",
       "\n",
       "                                                keys   latitude  longitude  \\\n",
       "35        us/ny/buffalo/1028mckinleypkwy/-1161002137  42.857899 -78.825089   \n",
       "2005  us/ny/buffalo/3120niagarafallsblvd/-1161002137  43.039404 -78.824138   \n",
       "2010           us/ny/buffalo/262griderst/-1161002137  42.921505 -78.829117   \n",
       "2015           us/ny/buffalo/241wferryst/-1161002137  42.915230 -78.892305   \n",
       "2016           us/ny/buffalo/241wferryst/-1161002137  42.915230 -78.892305   \n",
       "\n",
       "            name postalCode province  \\\n",
       "35    McDonald's      14220       NY   \n",
       "2005  McDonald's      14228       NY   \n",
       "2010  McDonald's      14215       NY   \n",
       "2015  McDonald's      14213       NY   \n",
       "2016  McDonald's      14213       NY   \n",
       "\n",
       "                                             sourceURLs  \\\n",
       "35    https://foursquare.com/v/mcdonalds/4bde2ddce75...   \n",
       "2005  https://www.allmenus.com/ny/buffalo/189056-mcd...   \n",
       "2010  https://www.allmenus.com/ny/buffalo/189021-mcd...   \n",
       "2015  https://www.allmenus.com/ny/buffalo/188996-mcd...   \n",
       "2016  https://www.allmenus.com/ny/buffalo/188996-mcd...   \n",
       "\n",
       "                                               websites  \n",
       "35    http://www.mcdonalds.com/?cid=RF:YXT_FM:TP::Ye...  \n",
       "2005                               http://mcdonalds.com  \n",
       "2010  http://www.mcdonalds.com/?cid=RF:YXT_FM:TP::Ye...  \n",
       "2015  http://www.mcdonalds.com/?cid=RF:YXT_FM:TP::Ye...  \n",
       "2016  http://www.mcdonalds.com/?cid=RF:YXT_FM:TP::Ye...  "
      ]
     },
     "execution_count": 44,
     "metadata": {},
     "output_type": "execute_result"
    }
   ],
   "source": [
    "buffalo.head()"
   ]
  },
  {
   "cell_type": "code",
   "execution_count": 45,
   "metadata": {
    "scrolled": false
   },
   "outputs": [
    {
     "data": {
      "text/plain": [
       "<AxesSubplot:xlabel='latitude', ylabel='longitude'>"
      ]
     },
     "execution_count": 45,
     "metadata": {},
     "output_type": "execute_result"
    },
    {
     "data": {
      "image/png": "[encoded data removed]",
      "text/plain": [
       "<Figure size 576x576 with 1 Axes>"
      ]
     },
     "metadata": {},
     "output_type": "display_data"
    }
   ],
   "source": [
    "fig, ax = plt.subplots(figsize=(8,8))\n",
    "\n",
    "sns.scatterplot(x='latitude',\n",
    "               y='longitude',\n",
    "               data=ffood)"
   ]
  },
  {
   "cell_type": "code",
   "execution_count": null,
   "metadata": {},
   "outputs": [],
   "source": [
    "fig, ax = plt.subplots(figsize=(8,8))\n",
    "\n",
    "sns.scatterplot(x='latitude',\n",
    "               y='longitude',\n",
    "               data=ffood)"
   ]
  },
  {
   "cell_type": "markdown",
   "metadata": {
    "heading_collapsed": true,
    "hidden": true
   },
   "source": [
    "### Question 3 (Exercise!):"
   ]
  },
  {
   "cell_type": "code",
   "execution_count": null,
   "metadata": {},
   "outputs": [],
   "source": []
  },
  {
   "cell_type": "markdown",
   "metadata": {
    "hidden": true
   },
   "source": [
    "In this dataset, how many Taco Bell restaurants are there in Alaska, and in which cities are they?"
   ]
  },
  {
   "cell_type": "code",
   "execution_count": 48,
   "metadata": {
    "hidden": true
   },
   "outputs": [
    {
     "data": {
      "text/plain": [
       "8497    Fairbanks\n",
       "8498    Fairbanks\n",
       "9789    Anchorage\n",
       "Name: city, dtype: object"
      ]
     },
     "execution_count": 48,
     "metadata": {},
     "output_type": "execute_result"
    }
   ],
   "source": [
    "# Answer!\n",
    "filter1 = ffood['province'] == 'AK'\n",
    "filter2 = ffood['name'] == 'Taco Bell'\n",
    "\n",
    "tb_ak = ffood[ filter1 & filter2] ['city']\n",
    "tb_ak\n",
    "#tb_ak = ffood[ (ffood['province'] == 'AK') & (ffood['name'] == 'Taco Bell')]\n",
    "#tb_ak"
   ]
  },
  {
   "cell_type": "markdown",
   "metadata": {
    "heading_collapsed": true,
    "hidden": true
   },
   "source": [
    "### Question 4 (Exercise!):"
   ]
  },
  {
   "cell_type": "markdown",
   "metadata": {
    "hidden": true
   },
   "source": [
    "Convert the ZIP Codes to (five-digit) integers."
   ]
  },
  {
   "cell_type": "code",
   "execution_count": 55,
   "metadata": {},
   "outputs": [],
   "source": [
    "ffood['zip5-2'] = ffood['postalCode'].str[:5]"
   ]
  },
  {
   "cell_type": "code",
   "execution_count": null,
   "metadata": {},
   "outputs": [],
   "source": [
    "# del ffood['zip5-2']  # permanently deletes it from the og data"
   ]
  },
  {
   "cell_type": "code",
   "execution_count": 56,
   "metadata": {},
   "outputs": [
    {
     "ename": "NameError",
     "evalue": "name 'zip5' is not defined",
     "output_type": "error",
     "traceback": [
      "\u001b[0;31m---------------------------------------------------------------------------\u001b[0m",
      "\u001b[0;31mNameError\u001b[0m                                 Traceback (most recent call last)",
      "\u001b[0;32m<ipython-input-56-7dfeb71b227f>\u001b[0m in \u001b[0;36m<module>\u001b[0;34m\u001b[0m\n\u001b[0;32m----> 1\u001b[0;31m \u001b[0mffood\u001b[0m\u001b[0;34m[\u001b[0m\u001b[0;34m'zip5'\u001b[0m\u001b[0;34m]\u001b[0m \u001b[0;34m=\u001b[0m \u001b[0mzip5\u001b[0m\u001b[0;34m\u001b[0m\u001b[0;34m\u001b[0m\u001b[0m\n\u001b[0m",
      "\u001b[0;31mNameError\u001b[0m: name 'zip5' is not defined"
     ]
    }
   ],
   "source": [
    "ffood['zip5'] = zip5"
   ]
  },
  {
   "cell_type": "code",
   "execution_count": 52,
   "metadata": {},
   "outputs": [],
   "source": [
    "ffood['zip5'] = [x[:5] for x in ffood['postalCode'].values]"
   ]
  },
  {
   "cell_type": "code",
   "execution_count": 57,
   "metadata": {
    "hidden": true
   },
   "outputs": [],
   "source": [
    "# Your Code!\n",
    "ffood['zip5'] = ffood['zip5'].astype(int)"
   ]
  },
  {
   "cell_type": "code",
   "execution_count": 58,
   "metadata": {},
   "outputs": [
    {
     "data": {
      "text/plain": [
       "id              object\n",
       "dateAdded       object\n",
       "dateUpdated     object\n",
       "address         object\n",
       "categories      object\n",
       "city            object\n",
       "country         object\n",
       "keys            object\n",
       "latitude       float64\n",
       "longitude      float64\n",
       "name            object\n",
       "postalCode      object\n",
       "province        object\n",
       "sourceURLs      object\n",
       "websites        object\n",
       "zip5             int64\n",
       "zip5-2          object\n",
       "dtype: object"
      ]
     },
     "execution_count": 58,
     "metadata": {},
     "output_type": "execute_result"
    }
   ],
   "source": [
    "ffood.dtypes"
   ]
  },
  {
   "cell_type": "markdown",
   "metadata": {
    "heading_collapsed": true,
    "hidden": true
   },
   "source": [
    "### Question 5 (Exercise!)"
   ]
  },
  {
   "cell_type": "markdown",
   "metadata": {
    "hidden": true
   },
   "source": [
    "Which restaurant chain has the greatest representation in San Francisco, CA? (This city covers the ZIP Codes 94100-94188.)"
   ]
  },
  {
   "cell_type": "code",
   "execution_count": 60,
   "metadata": {
    "hidden": true,
    "scrolled": true
   },
   "outputs": [
    {
     "data": {
      "text/html": [
       "<div>\n",
       "<style scoped>\n",
       "    .dataframe tbody tr th:only-of-type {\n",
       "        vertical-align: middle;\n",
       "    }\n",
       "\n",
       "    .dataframe tbody tr th {\n",
       "        vertical-align: top;\n",
       "    }\n",
       "\n",
       "    .dataframe thead th {\n",
       "        text-align: right;\n",
       "    }\n",
       "</style>\n",
       "<table border=\"1\" class=\"dataframe\">\n",
       "  <thead>\n",
       "    <tr style=\"text-align: right;\">\n",
       "      <th></th>\n",
       "      <th>id</th>\n",
       "      <th>dateAdded</th>\n",
       "      <th>dateUpdated</th>\n",
       "      <th>address</th>\n",
       "      <th>categories</th>\n",
       "      <th>city</th>\n",
       "      <th>country</th>\n",
       "      <th>keys</th>\n",
       "      <th>latitude</th>\n",
       "      <th>longitude</th>\n",
       "      <th>name</th>\n",
       "      <th>postalCode</th>\n",
       "      <th>province</th>\n",
       "      <th>sourceURLs</th>\n",
       "      <th>websites</th>\n",
       "      <th>zip5</th>\n",
       "      <th>zip5-2</th>\n",
       "    </tr>\n",
       "  </thead>\n",
       "  <tbody>\n",
       "    <tr>\n",
       "      <th>83</th>\n",
       "      <td>AVwcw60lIN2L1WUfoooM</td>\n",
       "      <td>2015-10-20T01:32:44Z</td>\n",
       "      <td>2018-06-25T09:00:30Z</td>\n",
       "      <td>2180 Contra Costa Blvd</td>\n",
       "      <td>Fast Food Restaurant</td>\n",
       "      <td>Pleasant Hill</td>\n",
       "      <td>US</td>\n",
       "      <td>us/ca/pleasanthill/2180contracostablvd/-230200247</td>\n",
       "      <td>37.946879</td>\n",
       "      <td>-122.060174</td>\n",
       "      <td>Boston Market</td>\n",
       "      <td>94523</td>\n",
       "      <td>CA</td>\n",
       "      <td>http://www.yellowbook.com/profile/boston-marke...</td>\n",
       "      <td>http://www.bostonmarket.com,https://bostonmark...</td>\n",
       "      <td>94523</td>\n",
       "      <td>94523</td>\n",
       "    </tr>\n",
       "    <tr>\n",
       "      <th>84</th>\n",
       "      <td>AVwdnXRZIN2L1WUfxkNs</td>\n",
       "      <td>2015-11-13T18:18:00Z</td>\n",
       "      <td>2018-06-25T09:00:29Z</td>\n",
       "      <td>3035 Castro Valley Blvd</td>\n",
       "      <td>Fast Food</td>\n",
       "      <td>Castro Valley</td>\n",
       "      <td>US</td>\n",
       "      <td>us/ca/castrovalley/3035castrovalleyblvd/-23051...</td>\n",
       "      <td>37.695437</td>\n",
       "      <td>-122.081735</td>\n",
       "      <td>Jack in the Box</td>\n",
       "      <td>94546</td>\n",
       "      <td>CA</td>\n",
       "      <td>https://foursquare.com/v/jack-in-the-box/4a5a3...</td>\n",
       "      <td>http://www.jackinthebox.com,http://www.jackint...</td>\n",
       "      <td>94546</td>\n",
       "      <td>94546</td>\n",
       "    </tr>\n",
       "    <tr>\n",
       "      <th>85</th>\n",
       "      <td>AVwd-SOJ_7pvs4fz-6EA</td>\n",
       "      <td>2016-11-23T04:46:29Z</td>\n",
       "      <td>2018-06-25T09:00:28Z</td>\n",
       "      <td>4302 Moorpark Ave</td>\n",
       "      <td>Fast Food</td>\n",
       "      <td>San Jose</td>\n",
       "      <td>US</td>\n",
       "      <td>us/ca/sanjose/4302moorparkave/330000776</td>\n",
       "      <td>37.315904</td>\n",
       "      <td>-121.977843</td>\n",
       "      <td>Round Table Pizza</td>\n",
       "      <td>95129</td>\n",
       "      <td>CA</td>\n",
       "      <td>https://www.allmenus.com/ca/san-jose/75368-rou...</td>\n",
       "      <td>http://www.roundtablepizza.com/,http://roundta...</td>\n",
       "      <td>95129</td>\n",
       "      <td>95129</td>\n",
       "    </tr>\n",
       "    <tr>\n",
       "      <th>88</th>\n",
       "      <td>AVwcu-9q_7pvs4fzyYXH</td>\n",
       "      <td>2016-04-03T02:39:39Z</td>\n",
       "      <td>2018-06-25T09:00:18Z</td>\n",
       "      <td>962 East Ave</td>\n",
       "      <td>Fast food restaurants</td>\n",
       "      <td>Chico</td>\n",
       "      <td>US</td>\n",
       "      <td>us/ca/chico/962eastave/-2061630068</td>\n",
       "      <td>39.761170</td>\n",
       "      <td>-121.842187</td>\n",
       "      <td>Burger King</td>\n",
       "      <td>95926</td>\n",
       "      <td>CA</td>\n",
       "      <td>https://foursquare.com/v/burger-king/4beb87d26...</td>\n",
       "      <td>https://locations.bk.com/ca/chico/962-east-ave...</td>\n",
       "      <td>95926</td>\n",
       "      <td>95926</td>\n",
       "    </tr>\n",
       "    <tr>\n",
       "      <th>92</th>\n",
       "      <td>AVwcyKEvIN2L1WUfo2pL</td>\n",
       "      <td>2016-04-02T05:21:43Z</td>\n",
       "      <td>2018-06-25T09:00:10Z</td>\n",
       "      <td>1760 41st Ave</td>\n",
       "      <td>Fast Food Restaurant</td>\n",
       "      <td>Capitola</td>\n",
       "      <td>US</td>\n",
       "      <td>us/ca/capitola/176041stave/-1161002137</td>\n",
       "      <td>36.975287</td>\n",
       "      <td>-121.963929</td>\n",
       "      <td>McDonald's</td>\n",
       "      <td>95010</td>\n",
       "      <td>CA</td>\n",
       "      <td>https://foursquare.com/v/mcdonalds/4b4fed67f96...</td>\n",
       "      <td>http://mcdonalds.com,http://www.mcdonalds.com/...</td>\n",
       "      <td>95010</td>\n",
       "      <td>95010</td>\n",
       "    </tr>\n",
       "    <tr>\n",
       "      <th>...</th>\n",
       "      <td>...</td>\n",
       "      <td>...</td>\n",
       "      <td>...</td>\n",
       "      <td>...</td>\n",
       "      <td>...</td>\n",
       "      <td>...</td>\n",
       "      <td>...</td>\n",
       "      <td>...</td>\n",
       "      <td>...</td>\n",
       "      <td>...</td>\n",
       "      <td>...</td>\n",
       "      <td>...</td>\n",
       "      <td>...</td>\n",
       "      <td>...</td>\n",
       "      <td>...</td>\n",
       "      <td>...</td>\n",
       "      <td>...</td>\n",
       "    </tr>\n",
       "    <tr>\n",
       "      <th>9883</th>\n",
       "      <td>AVzBB8LL3D1zeR_xBFIc</td>\n",
       "      <td>2017-06-19T15:45:30Z</td>\n",
       "      <td>2018-04-10T06:43:33Z</td>\n",
       "      <td>110 Trosper Rd SW</td>\n",
       "      <td>Fast Food Restaurant</td>\n",
       "      <td>Olympia</td>\n",
       "      <td>US</td>\n",
       "      <td>us/wa/olympia/110trosperrdsw/-230519289</td>\n",
       "      <td>47.000000</td>\n",
       "      <td>-122.908900</td>\n",
       "      <td>Jack in the Box</td>\n",
       "      <td>98501</td>\n",
       "      <td>WA</td>\n",
       "      <td>https://foursquare.com/v/jack-in-the-box/4b936...</td>\n",
       "      <td>http://www.jackinthebox.com</td>\n",
       "      <td>98501</td>\n",
       "      <td>98501</td>\n",
       "    </tr>\n",
       "    <tr>\n",
       "      <th>9884</th>\n",
       "      <td>AV1vu4Ic3-Khe5l_O2AO</td>\n",
       "      <td>2017-07-23T13:55:45Z</td>\n",
       "      <td>2018-04-10T06:43:33Z</td>\n",
       "      <td>5110 Capitol Blvd SE</td>\n",
       "      <td>Fast Food Restaurant</td>\n",
       "      <td>Olympia</td>\n",
       "      <td>US</td>\n",
       "      <td>us/wa/olympia/5110capitolblvdse/106088</td>\n",
       "      <td>47.002100</td>\n",
       "      <td>-122.909300</td>\n",
       "      <td>KFC</td>\n",
       "      <td>98501</td>\n",
       "      <td>WA</td>\n",
       "      <td>https://foursquare.com/v/kfc/4d3a4db934ee37045...</td>\n",
       "      <td>http://www.kfc.com</td>\n",
       "      <td>98501</td>\n",
       "      <td>98501</td>\n",
       "    </tr>\n",
       "    <tr>\n",
       "      <th>9893</th>\n",
       "      <td>AVwdQJW1_7pvs4fz35yo</td>\n",
       "      <td>2016-03-28T06:00:19Z</td>\n",
       "      <td>2018-04-09T22:22:56Z</td>\n",
       "      <td>1849 E Capitol Expy</td>\n",
       "      <td>Fast Food Restaurants</td>\n",
       "      <td>San Jose</td>\n",
       "      <td>US</td>\n",
       "      <td>us/ca/sanjose/1849ecapitolexpy/2062304683</td>\n",
       "      <td>37.313321</td>\n",
       "      <td>-121.808030</td>\n",
       "      <td>Jamba Juice</td>\n",
       "      <td>95121</td>\n",
       "      <td>CA</td>\n",
       "      <td>https://www.allmenus.com/ca/san-jose/135674-ja...</td>\n",
       "      <td>http://www.jambajuice.com</td>\n",
       "      <td>95121</td>\n",
       "      <td>95121</td>\n",
       "    </tr>\n",
       "    <tr>\n",
       "      <th>9964</th>\n",
       "      <td>AVwd6bkUkufWRAb5-WHa</td>\n",
       "      <td>2014-01-09T05:24:48Z</td>\n",
       "      <td>2018-04-07T23:40:46Z</td>\n",
       "      <td>11490 SW Canyon Rd</td>\n",
       "      <td>Fast Food Restaurant</td>\n",
       "      <td>Beaverton</td>\n",
       "      <td>US</td>\n",
       "      <td>us/or/beaverton/11490swcanyonrd/-1191797674</td>\n",
       "      <td>45.489729</td>\n",
       "      <td>-122.794934</td>\n",
       "      <td>Panda Express</td>\n",
       "      <td>97005</td>\n",
       "      <td>OR</td>\n",
       "      <td>https://foursquare.com/v/panda-express/4b42dad...</td>\n",
       "      <td>https://pandaexpress.com,http://www.pandaexpre...</td>\n",
       "      <td>97005</td>\n",
       "      <td>97005</td>\n",
       "    </tr>\n",
       "    <tr>\n",
       "      <th>9965</th>\n",
       "      <td>AVwd1RAAIN2L1WUfznKd</td>\n",
       "      <td>2016-10-11T08:52:02Z</td>\n",
       "      <td>2018-04-07T23:40:46Z</td>\n",
       "      <td>7005 Sw Nyberg Rd</td>\n",
       "      <td>Fast Food Restaurant</td>\n",
       "      <td>Tualatin</td>\n",
       "      <td>US</td>\n",
       "      <td>us/or/tualatin/7005swnybergrd/-448666054</td>\n",
       "      <td>45.383018</td>\n",
       "      <td>-122.748054</td>\n",
       "      <td>Five Guys</td>\n",
       "      <td>97062</td>\n",
       "      <td>OR</td>\n",
       "      <td>https://foursquare.com/v/five-guys/54b42b15498...</td>\n",
       "      <td>http://fiveguys.com,http://www.fiveguys.com</td>\n",
       "      <td>97062</td>\n",
       "      <td>97062</td>\n",
       "    </tr>\n",
       "  </tbody>\n",
       "</table>\n",
       "<p>704 rows × 17 columns</p>\n",
       "</div>"
      ],
      "text/plain": [
       "                        id             dateAdded           dateUpdated  \\\n",
       "83    AVwcw60lIN2L1WUfoooM  2015-10-20T01:32:44Z  2018-06-25T09:00:30Z   \n",
       "84    AVwdnXRZIN2L1WUfxkNs  2015-11-13T18:18:00Z  2018-06-25T09:00:29Z   \n",
       "85    AVwd-SOJ_7pvs4fz-6EA  2016-11-23T04:46:29Z  2018-06-25T09:00:28Z   \n",
       "88    AVwcu-9q_7pvs4fzyYXH  2016-04-03T02:39:39Z  2018-06-25T09:00:18Z   \n",
       "92    AVwcyKEvIN2L1WUfo2pL  2016-04-02T05:21:43Z  2018-06-25T09:00:10Z   \n",
       "...                    ...                   ...                   ...   \n",
       "9883  AVzBB8LL3D1zeR_xBFIc  2017-06-19T15:45:30Z  2018-04-10T06:43:33Z   \n",
       "9884  AV1vu4Ic3-Khe5l_O2AO  2017-07-23T13:55:45Z  2018-04-10T06:43:33Z   \n",
       "9893  AVwdQJW1_7pvs4fz35yo  2016-03-28T06:00:19Z  2018-04-09T22:22:56Z   \n",
       "9964  AVwd6bkUkufWRAb5-WHa  2014-01-09T05:24:48Z  2018-04-07T23:40:46Z   \n",
       "9965  AVwd1RAAIN2L1WUfznKd  2016-10-11T08:52:02Z  2018-04-07T23:40:46Z   \n",
       "\n",
       "                      address             categories           city country  \\\n",
       "83     2180 Contra Costa Blvd   Fast Food Restaurant  Pleasant Hill      US   \n",
       "84    3035 Castro Valley Blvd              Fast Food  Castro Valley      US   \n",
       "85          4302 Moorpark Ave              Fast Food       San Jose      US   \n",
       "88               962 East Ave  Fast food restaurants          Chico      US   \n",
       "92              1760 41st Ave   Fast Food Restaurant       Capitola      US   \n",
       "...                       ...                    ...            ...     ...   \n",
       "9883        110 Trosper Rd SW   Fast Food Restaurant        Olympia      US   \n",
       "9884     5110 Capitol Blvd SE   Fast Food Restaurant        Olympia      US   \n",
       "9893      1849 E Capitol Expy  Fast Food Restaurants       San Jose      US   \n",
       "9964       11490 SW Canyon Rd   Fast Food Restaurant      Beaverton      US   \n",
       "9965        7005 Sw Nyberg Rd   Fast Food Restaurant       Tualatin      US   \n",
       "\n",
       "                                                   keys   latitude  \\\n",
       "83    us/ca/pleasanthill/2180contracostablvd/-230200247  37.946879   \n",
       "84    us/ca/castrovalley/3035castrovalleyblvd/-23051...  37.695437   \n",
       "85              us/ca/sanjose/4302moorparkave/330000776  37.315904   \n",
       "88                   us/ca/chico/962eastave/-2061630068  39.761170   \n",
       "92               us/ca/capitola/176041stave/-1161002137  36.975287   \n",
       "...                                                 ...        ...   \n",
       "9883            us/wa/olympia/110trosperrdsw/-230519289  47.000000   \n",
       "9884             us/wa/olympia/5110capitolblvdse/106088  47.002100   \n",
       "9893          us/ca/sanjose/1849ecapitolexpy/2062304683  37.313321   \n",
       "9964        us/or/beaverton/11490swcanyonrd/-1191797674  45.489729   \n",
       "9965           us/or/tualatin/7005swnybergrd/-448666054  45.383018   \n",
       "\n",
       "       longitude               name postalCode province  \\\n",
       "83   -122.060174      Boston Market      94523       CA   \n",
       "84   -122.081735    Jack in the Box      94546       CA   \n",
       "85   -121.977843  Round Table Pizza      95129       CA   \n",
       "88   -121.842187        Burger King      95926       CA   \n",
       "92   -121.963929         McDonald's      95010       CA   \n",
       "...          ...                ...        ...      ...   \n",
       "9883 -122.908900    Jack in the Box      98501       WA   \n",
       "9884 -122.909300                KFC      98501       WA   \n",
       "9893 -121.808030        Jamba Juice      95121       CA   \n",
       "9964 -122.794934      Panda Express      97005       OR   \n",
       "9965 -122.748054          Five Guys      97062       OR   \n",
       "\n",
       "                                             sourceURLs  \\\n",
       "83    http://www.yellowbook.com/profile/boston-marke...   \n",
       "84    https://foursquare.com/v/jack-in-the-box/4a5a3...   \n",
       "85    https://www.allmenus.com/ca/san-jose/75368-rou...   \n",
       "88    https://foursquare.com/v/burger-king/4beb87d26...   \n",
       "92    https://foursquare.com/v/mcdonalds/4b4fed67f96...   \n",
       "...                                                 ...   \n",
       "9883  https://foursquare.com/v/jack-in-the-box/4b936...   \n",
       "9884  https://foursquare.com/v/kfc/4d3a4db934ee37045...   \n",
       "9893  https://www.allmenus.com/ca/san-jose/135674-ja...   \n",
       "9964  https://foursquare.com/v/panda-express/4b42dad...   \n",
       "9965  https://foursquare.com/v/five-guys/54b42b15498...   \n",
       "\n",
       "                                               websites   zip5 zip5-2  \n",
       "83    http://www.bostonmarket.com,https://bostonmark...  94523  94523  \n",
       "84    http://www.jackinthebox.com,http://www.jackint...  94546  94546  \n",
       "85    http://www.roundtablepizza.com/,http://roundta...  95129  95129  \n",
       "88    https://locations.bk.com/ca/chico/962-east-ave...  95926  95926  \n",
       "92    http://mcdonalds.com,http://www.mcdonalds.com/...  95010  95010  \n",
       "...                                                 ...    ...    ...  \n",
       "9883                        http://www.jackinthebox.com  98501  98501  \n",
       "9884                                 http://www.kfc.com  98501  98501  \n",
       "9893                          http://www.jambajuice.com  95121  95121  \n",
       "9964  https://pandaexpress.com,http://www.pandaexpre...  97005  97005  \n",
       "9965        http://fiveguys.com,http://www.fiveguys.com  97062  97062  \n",
       "\n",
       "[704 rows x 17 columns]"
      ]
     },
     "execution_count": 60,
     "metadata": {},
     "output_type": "execute_result"
    }
   ],
   "source": [
    "# What you got?\n",
    "filter1 = ffood['zip5'] >= 94100\n",
    "filter2 = ffood['zip5'] >= 94188\n",
    "sf_df = ffood [ filter1 & filter2 ]\n",
    "sf_df\n"
   ]
  },
  {
   "cell_type": "code",
   "execution_count": 61,
   "metadata": {},
   "outputs": [
    {
     "data": {
      "text/plain": [
       "<bound method IndexOpsMixin.value_counts of 83          Boston Market\n",
       "84        Jack in the Box\n",
       "85      Round Table Pizza\n",
       "88            Burger King\n",
       "92             McDonald's\n",
       "              ...        \n",
       "9883      Jack in the Box\n",
       "9884                  KFC\n",
       "9893          Jamba Juice\n",
       "9964        Panda Express\n",
       "9965            Five Guys\n",
       "Name: name, Length: 704, dtype: object>"
      ]
     },
     "execution_count": 61,
     "metadata": {},
     "output_type": "execute_result"
    }
   ],
   "source": [
    "sf_df.name.value_counts"
   ]
  },
  {
   "cell_type": "markdown",
   "metadata": {
    "heading_collapsed": true,
    "hidden": true
   },
   "source": [
    "## Credit Card Data"
   ]
  },
  {
   "cell_type": "code",
   "execution_count": null,
   "metadata": {
    "hidden": true
   },
   "outputs": [],
   "source": [
    "credit = pd.read_csv('data/BankChurners.csv').iloc[:, :-2]"
   ]
  },
  {
   "cell_type": "code",
   "execution_count": null,
   "metadata": {
    "hidden": true
   },
   "outputs": [],
   "source": [
    "credit.head()"
   ]
  },
  {
   "cell_type": "code",
   "execution_count": null,
   "metadata": {
    "hidden": true
   },
   "outputs": [],
   "source": [
    "credit.describe()"
   ]
  },
  {
   "cell_type": "code",
   "execution_count": null,
   "metadata": {
    "hidden": true
   },
   "outputs": [],
   "source": [
    "credit['Attrition_Flag'].value_counts()"
   ]
  },
  {
   "cell_type": "markdown",
   "metadata": {
    "hidden": true
   },
   "source": [
    "We work for a credit card company and are worried about customers churning (becoming attrited)."
   ]
  },
  {
   "cell_type": "markdown",
   "metadata": {
    "heading_collapsed": true,
    "hidden": true
   },
   "source": [
    "### Question 1 (Exercise!)"
   ]
  },
  {
   "cell_type": "markdown",
   "metadata": {
    "hidden": true
   },
   "source": [
    "Get the means of the numerical columns for the existing and the attrited customers separately."
   ]
  },
  {
   "cell_type": "code",
   "execution_count": null,
   "metadata": {
    "hidden": true
   },
   "outputs": [],
   "source": [
    "# Write it"
   ]
  },
  {
   "cell_type": "markdown",
   "metadata": {
    "heading_collapsed": true,
    "hidden": true
   },
   "source": [
    "### Question 2 (Exercise!)"
   ]
  },
  {
   "cell_type": "markdown",
   "metadata": {
    "hidden": true
   },
   "source": [
    "Visualize the distributions of total revolving balances for each group."
   ]
  },
  {
   "cell_type": "code",
   "execution_count": null,
   "metadata": {
    "hidden": true
   },
   "outputs": [],
   "source": [
    "# PLOTS!"
   ]
  },
  {
   "cell_type": "markdown",
   "metadata": {
    "heading_collapsed": true,
    "hidden": true
   },
   "source": [
    "### Question 3 (Exercise!)"
   ]
  },
  {
   "cell_type": "markdown",
   "metadata": {
    "hidden": true
   },
   "source": [
    "Make two bar charts counting the numbers in each income category for each group separately."
   ]
  },
  {
   "cell_type": "code",
   "execution_count": null,
   "metadata": {
    "hidden": true
   },
   "outputs": [],
   "source": [
    "# CHARTS!"
   ]
  },
  {
   "cell_type": "markdown",
   "metadata": {
    "heading_collapsed": true
   },
   "source": [
    "# Level Up: Other Shape Descriptors"
   ]
  },
  {
   "cell_type": "markdown",
   "metadata": {
    "hidden": true
   },
   "source": [
    "Here are a few other ways that people describe the distributions of data."
   ]
  },
  {
   "cell_type": "markdown",
   "metadata": {
    "heading_collapsed": true,
    "hidden": true
   },
   "source": [
    "## Moments"
   ]
  },
  {
   "cell_type": "markdown",
   "metadata": {
    "hidden": true
   },
   "source": [
    "The mean is related to $\\Sigma(x_i - \\bar{x})$ while the standard deviation is related to $\\Sigma(x_i - \\bar{x})^2$. We could consider higher exponents as well, of the form $\\Sigma(x_i - \\bar{x})^n$. For each exponent $n>0$, we can define a related statistical **moment**. For $n=3$, the moment is called the **skewness**, which is a measure of how the mean and median diverge. For $n=4$, the moment is called the **kurtosis**, which is a measure of how many values are relatively far from the mean.\n",
    "\n",
    "There are a few different definitions of skewness and kurtosis that are commonly used, but the basic quantities are:\n",
    "\n",
    "- $\\frac{\\Sigma(x_i - \\bar{x})^3}{n\\sigma^3}$ (for skewness)\n",
    "- $\\frac{\\Sigma(x_i - \\bar{x})^4}{n\\sigma^4}$ (for kurtosis)\n",
    "\n",
    "For more on statistical moments, see [here](https://www.statisticshowto.datasciencecentral.com/what-is-a-moment/) and [here](https://www.spcforexcel.com/knowledge/basic-statistics/are-skewness-and-kurtosis-useful-statistics)."
   ]
  },
  {
   "cell_type": "markdown",
   "metadata": {
    "heading_collapsed": true,
    "hidden": true
   },
   "source": [
    "### Skewness"
   ]
  },
  {
   "cell_type": "markdown",
   "metadata": {
    "hidden": true
   },
   "source": [
    "![skew](images/skew.png)"
   ]
  },
  {
   "cell_type": "code",
   "execution_count": null,
   "metadata": {
    "hidden": true
   },
   "outputs": [],
   "source": [
    "stats.skew(data)"
   ]
  },
  {
   "cell_type": "markdown",
   "metadata": {
    "heading_collapsed": true,
    "hidden": true
   },
   "source": [
    "### Kurtosis"
   ]
  },
  {
   "cell_type": "markdown",
   "metadata": {
    "hidden": true
   },
   "source": [
    "![kurt](images/kurtosis.png)"
   ]
  },
  {
   "cell_type": "code",
   "execution_count": 63,
   "metadata": {
    "hidden": true
   },
   "outputs": [
    {
     "data": {
      "text/plain": [
       "-1.2547194008412847"
      ]
     },
     "execution_count": 63,
     "metadata": {},
     "output_type": "execute_result"
    }
   ],
   "source": [
    "stats.kurtosis(data)"
   ]
  },
  {
   "cell_type": "markdown",
   "metadata": {
    "hidden": true
   },
   "source": [
    "What if we want to visualize the three histograms together?"
   ]
  },
  {
   "cell_type": "markdown",
   "metadata": {
    "heading_collapsed": true,
    "hidden": true
   },
   "source": [
    "## Symmetry"
   ]
  },
  {
   "cell_type": "code",
   "execution_count": 64,
   "metadata": {
    "hidden": true
   },
   "outputs": [
    {
     "data": {
      "image/png": "[encoded data removed]",
      "text/plain": [
       "<Figure size 576x504 with 1 Axes>"
      ]
     },
     "metadata": {},
     "output_type": "display_data"
    },
    {
     "data": {
      "image/png": "[encoded data removed]",
      "text/plain": [
       "<Figure size 576x504 with 1 Axes>"
      ]
     },
     "metadata": {},
     "output_type": "display_data"
    }
   ],
   "source": [
    "X = np.linspace(-3, 3, 40)\n",
    "y = stats.norm.pdf(X) + 0.05 * np.random.rand(40)\n",
    "\n",
    "fig, ax = plt.subplots(figsize=(8, 7))\n",
    "ax.plot(X, y, lw=5)\n",
    "ax.vlines(x=0, ymin=0, ymax=0.5, colors = \"black\")\n",
    "plt.title('Symmetric Distribution');\n",
    "\n",
    "X = np.linspace(0, 1, 40)\n",
    "y = stats.expon.pdf(X) + 0.05 * np.random.rand(40)\n",
    "\n",
    "fig, ax = plt.subplots(figsize=(8, 7))\n",
    "ax.plot(X, y, lw=5)\n",
    "plt.title('Asymmetric Distribution');"
   ]
  },
  {
   "cell_type": "markdown",
   "metadata": {
    "heading_collapsed": true,
    "hidden": true
   },
   "source": [
    "## Modality"
   ]
  },
  {
   "cell_type": "code",
   "execution_count": 65,
   "metadata": {
    "hidden": true
   },
   "outputs": [
    {
     "data": {
      "image/png": "[encoded data removed]",
      "text/plain": [
       "<Figure size 576x504 with 1 Axes>"
      ]
     },
     "metadata": {},
     "output_type": "display_data"
    },
    {
     "data": {
      "image/png": "[encoded data removed]",
      "text/plain": [
       "<Figure size 576x504 with 1 Axes>"
      ]
     },
     "metadata": {},
     "output_type": "display_data"
    }
   ],
   "source": [
    "X = np.linspace(0, 1, 40)\n",
    "y = stats.uniform.pdf(X) + 0.05 * np.random.rand(40)\n",
    "\n",
    "fig, ax = plt.subplots(figsize=(8, 7))\n",
    "ax.plot(X, y, lw=5)\n",
    "plt.ylim(0.5, 1.5)\n",
    "plt.title('Flat Distribution');\n",
    "\n",
    "X = np.linspace(-5, 5, 40)\n",
    "y = stats.norm.pdf(X, loc=-2) + stats.norm.pdf(X, loc=2)\\\n",
    "+ 0.05 * np.random.rand(40)\n",
    "\n",
    "fig, ax = plt.subplots(figsize=(8, 7))\n",
    "ax.plot(X, y, lw=5)\n",
    "plt.title('Bimodal Distribution');"
   ]
  },
  {
   "cell_type": "code",
   "execution_count": null,
   "metadata": {
    "hidden": true
   },
   "outputs": [],
   "source": []
  }
 ],
 "metadata": {
  "kernelspec": {
   "display_name": "Python (learn-env)",
   "language": "python",
   "name": "learn-env"
  },
  "language_info": {
   "codemirror_mode": {
    "name": "ipython",
    "version": 3
   },
   "file_extension": ".py",
   "mimetype": "text/x-python",
   "name": "python",
   "nbconvert_exporter": "python",
   "pygments_lexer": "ipython3",
   "version": "3.8.5"
  },
  "toc": {
   "base_numbering": 1,
   "nav_menu": {},
   "number_sections": true,
   "sideBar": true,
   "skip_h1_title": false,
   "title_cell": "Table of Contents",
   "title_sidebar": "TOC",
   "toc_cell": true,
   "toc_position": {
    "height": "calc(100% - 180px)",
    "left": "10px",
    "top": "150px",
    "width": "288px"
   },
   "toc_section_display": true,
   "toc_window_display": true
  },
  "varInspector": {
   "cols": {
    "lenName": 16,
    "lenType": 16,
    "lenVar": 40
   },
   "kernels_config": {
    "python": {
     "delete_cmd_postfix": "",
     "delete_cmd_prefix": "del ",
     "library": "var_list.py",
     "varRefreshCmd": "print(var_dic_list())"
    },
    "r": {
     "delete_cmd_postfix": ") ",
     "delete_cmd_prefix": "rm(",
     "library": "var_list.r",
     "varRefreshCmd": "cat(var_dic_list()) "
    }
   },
   "types_to_exclude": [
    "module",
    "function",
    "builtin_function_or_method",
    "instance",
    "_Feature"
   ],
   "window_display": true
  }
 },
 "nbformat": 4,
 "nbformat_minor": 2
}
